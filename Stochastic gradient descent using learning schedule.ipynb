{
 "cells": [
  {
   "cell_type": "code",
   "execution_count": 1013,
   "metadata": {},
   "outputs": [
    {
     "name": "stdout",
     "output_type": "stream",
     "text": [
      "Once deleted, variables cannot be recovered. Proceed (y/[n])? y\n"
     ]
    }
   ],
   "source": [
    "%reset"
   ]
  },
  {
   "cell_type": "markdown",
   "metadata": {},
   "source": [
    "### Generate input data"
   ]
  },
  {
   "cell_type": "code",
   "execution_count": 1014,
   "metadata": {},
   "outputs": [],
   "source": [
    "import numpy as np\n",
    "import matplotlib.pyplot as plt"
   ]
  },
  {
   "cell_type": "code",
   "execution_count": 1015,
   "metadata": {},
   "outputs": [],
   "source": [
    "np.random.seed(42)"
   ]
  },
  {
   "cell_type": "code",
   "execution_count": 1016,
   "metadata": {},
   "outputs": [],
   "source": [
    "x = 2 * np.random.randn(100,1)"
   ]
  },
  {
   "cell_type": "code",
   "execution_count": 1017,
   "metadata": {},
   "outputs": [],
   "source": [
    "y = 4 + 3* x + np.random.randn(100,1)"
   ]
  },
  {
   "cell_type": "code",
   "execution_count": 1018,
   "metadata": {},
   "outputs": [
    {
     "data": {
      "image/png": "[encoded data removed]",
      "text/plain": [
       "<Figure size 432x288 with 1 Axes>"
      ]
     },
     "metadata": {
      "needs_background": "light"
     },
     "output_type": "display_data"
    }
   ],
   "source": [
    "plt.plot(x,y,'o')\n",
    "plt.show()"
   ]
  },
  {
   "cell_type": "markdown",
   "metadata": {},
   "source": [
    "### Calculating coefficients using batch gradient descent."
   ]
  },
  {
   "cell_type": "code",
   "execution_count": 1019,
   "metadata": {},
   "outputs": [],
   "source": [
    "x_ones = np.c_[np.ones((100,1)),x]"
   ]
  },
  {
   "cell_type": "code",
   "execution_count": 1020,
   "metadata": {},
   "outputs": [
    {
     "data": {
      "text/plain": [
       "array([[ 1.        ,  0.99342831],\n",
       "       [ 1.        , -0.2765286 ],\n",
       "       [ 1.        ,  1.29537708],\n",
       "       [ 1.        ,  3.04605971],\n",
       "       [ 1.        , -0.46830675],\n",
       "       [ 1.        , -0.46827391],\n",
       "       [ 1.        ,  3.15842563],\n",
       "       [ 1.        ,  1.53486946],\n",
       "       [ 1.        , -0.93894877],\n",
       "       [ 1.        ,  1.08512009],\n",
       "       [ 1.        , -0.92683539],\n",
       "       [ 1.        , -0.93145951],\n",
       "       [ 1.        ,  0.48392454],\n",
       "       [ 1.        , -3.82656049],\n",
       "       [ 1.        , -3.44983567],\n",
       "       [ 1.        , -1.12457506],\n",
       "       [ 1.        , -2.02566224],\n",
       "       [ 1.        ,  0.62849467],\n",
       "       [ 1.        , -1.81604815],\n",
       "       [ 1.        , -2.8246074 ],\n",
       "       [ 1.        ,  2.93129754],\n",
       "       [ 1.        , -0.4515526 ],\n",
       "       [ 1.        ,  0.13505641],\n",
       "       [ 1.        , -2.84949637],\n",
       "       [ 1.        , -1.08876545],\n",
       "       [ 1.        ,  0.22184518],\n",
       "       [ 1.        , -2.30198715],\n",
       "       [ 1.        ,  0.75139604],\n",
       "       [ 1.        , -1.20127738],\n",
       "       [ 1.        , -0.5833875 ],\n",
       "       [ 1.        , -1.20341322],\n",
       "       [ 1.        ,  3.70455637],\n",
       "       [ 1.        , -0.02699445],\n",
       "       [ 1.        , -2.11542186],\n",
       "       [ 1.        ,  1.64508982],\n",
       "       [ 1.        , -2.4416873 ],\n",
       "       [ 1.        ,  0.41772719],\n",
       "       [ 1.        , -3.91934025],\n",
       "       [ 1.        , -2.6563721 ],\n",
       "       [ 1.        ,  0.39372247],\n",
       "       [ 1.        ,  1.47693316],\n",
       "       [ 1.        ,  0.34273656],\n",
       "       [ 1.        , -0.23129656],\n",
       "       [ 1.        , -0.60220739],\n",
       "       [ 1.        , -2.95704398],\n",
       "       [ 1.        , -1.43968842],\n",
       "       [ 1.        , -0.92127754],\n",
       "       [ 1.        ,  2.11424445],\n",
       "       [ 1.        ,  0.68723658],\n",
       "       [ 1.        , -3.52608031],\n",
       "       [ 1.        ,  0.64816794],\n",
       "       [ 1.        , -0.77016456],\n",
       "       [ 1.        , -1.353844  ],\n",
       "       [ 1.        ,  1.22335258],\n",
       "       [ 1.        ,  2.06199904],\n",
       "       [ 1.        ,  1.86256024],\n",
       "       [ 1.        , -1.67843505],\n",
       "       [ 1.        , -0.61842475],\n",
       "       [ 1.        ,  0.66252686],\n",
       "       [ 1.        ,  1.95109025],\n",
       "       [ 1.        , -0.95834848],\n",
       "       [ 1.        , -0.37131795],\n",
       "       [ 1.        , -2.21266995],\n",
       "       [ 1.        , -2.39241325],\n",
       "       [ 1.        ,  1.62505164],\n",
       "       [ 1.        ,  2.71248006],\n",
       "       [ 1.        , -0.14402024],\n",
       "       [ 1.        ,  2.0070658 ],\n",
       "       [ 1.        ,  0.72327205],\n",
       "       [ 1.        , -1.29023951],\n",
       "       [ 1.        ,  0.72279121],\n",
       "       [ 1.        ,  3.07607313],\n",
       "       [ 1.        , -0.07165208],\n",
       "       [ 1.        ,  3.12928731],\n",
       "       [ 1.        , -5.23949021],\n",
       "       [ 1.        ,  1.64380501],\n",
       "       [ 1.        ,  0.17409414],\n",
       "       [ 1.        , -0.5980147 ],\n",
       "       [ 1.        ,  0.18352155],\n",
       "       [ 1.        , -3.97513783],\n",
       "       [ 1.        , -0.43934378],\n",
       "       [ 1.        ,  0.71422514],\n",
       "       [ 1.        ,  2.95578809],\n",
       "       [ 1.        , -1.03654044],\n",
       "       [ 1.        , -1.61698721],\n",
       "       [ 1.        , -1.00351409],\n",
       "       [ 1.        ,  1.83080424],\n",
       "       [ 1.        ,  0.65750222],\n",
       "       [ 1.        , -1.05952041],\n",
       "       [ 1.        ,  1.02653487],\n",
       "       [ 1.        ,  0.1941551 ],\n",
       "       [ 1.        ,  1.93728998],\n",
       "       [ 1.        , -1.40410619],\n",
       "       [ 1.        , -0.65532429],\n",
       "       [ 1.        , -0.78421631],\n",
       "       [ 1.        , -2.9270299 ],\n",
       "       [ 1.        ,  0.59224055],\n",
       "       [ 1.        ,  0.52211054],\n",
       "       [ 1.        ,  0.01022691],\n",
       "       [ 1.        , -0.46917427]])"
      ]
     },
     "execution_count": 1020,
     "metadata": {},
     "output_type": "execute_result"
    }
   ],
   "source": [
    "x_ones"
   ]
  },
  {
   "cell_type": "markdown",
   "metadata": {},
   "source": [
    "Initialize the values of learning rate and total number of iterations."
   ]
  },
  {
   "cell_type": "code",
   "execution_count": 1021,
   "metadata": {},
   "outputs": [],
   "source": [
    "eta = 0.1\n",
    "n_epoch = 250"
   ]
  },
  {
   "cell_type": "markdown",
   "metadata": {},
   "source": [
    "Initializing learning schedule hyperparameters."
   ]
  },
  {
   "cell_type": "code",
   "execution_count": 1022,
   "metadata": {},
   "outputs": [],
   "source": [
    "t_zero,t_one = 5,50"
   ]
  },
  {
   "cell_type": "markdown",
   "metadata": {},
   "source": [
    "Defining learning schedule hyperparameter function."
   ]
  },
  {
   "cell_type": "code",
   "execution_count": 1023,
   "metadata": {},
   "outputs": [],
   "source": [
    "def learning_schedule(t):\n",
    "    return t_zero/(t+t_one)"
   ]
  },
  {
   "cell_type": "markdown",
   "metadata": {},
   "source": [
    "Randomly initializing coefficients values."
   ]
  },
  {
   "cell_type": "code",
   "execution_count": 1024,
   "metadata": {},
   "outputs": [
    {
     "data": {
      "text/plain": [
       "array([[0.35778736],\n",
       "       [0.56078453]])"
      ]
     },
     "execution_count": 1024,
     "metadata": {},
     "output_type": "execute_result"
    }
   ],
   "source": [
    "coeffs = np.random.randn(2,1)\n",
    "coeffs"
   ]
  },
  {
   "cell_type": "code",
   "execution_count": 1025,
   "metadata": {},
   "outputs": [],
   "source": [
    "n=len(x_ones)"
   ]
  },
  {
   "cell_type": "code",
   "execution_count": 1026,
   "metadata": {},
   "outputs": [],
   "source": [
    "for epoch in range(n_epoch):\n",
    "    for i in range(n):\n",
    "        random_index = np.random.randint(n)\n",
    "        x_i = x_ones[random_index:random_index+1]\n",
    "        y_i = y[random_index:random_index+1]\n",
    "        gradients = 2 * x_i.T.dot(x_i.dot(coeffs) - y_i)\n",
    "        eta = learning_schedule(epoch * n + i)\n",
    "        coeffs = coeffs - eta * gradients\n"
   ]
  },
  {
   "cell_type": "code",
   "execution_count": 1027,
   "metadata": {},
   "outputs": [
    {
     "data": {
      "text/plain": [
       "array([[4.02981994],\n",
       "       [2.91040518]])"
      ]
     },
     "execution_count": 1027,
     "metadata": {},
     "output_type": "execute_result"
    }
   ],
   "source": [
    "coeffs"
   ]
  },
  {
   "cell_type": "markdown",
   "metadata": {},
   "source": [
    "### Let's predict for new instances."
   ]
  },
  {
   "cell_type": "code",
   "execution_count": 1028,
   "metadata": {},
   "outputs": [],
   "source": [
    "x_new = np.array([[0],[2]])"
   ]
  },
  {
   "cell_type": "code",
   "execution_count": 1029,
   "metadata": {},
   "outputs": [
    {
     "data": {
      "text/plain": [
       "array([[0],\n",
       "       [2]])"
      ]
     },
     "execution_count": 1029,
     "metadata": {},
     "output_type": "execute_result"
    }
   ],
   "source": [
    "x_new"
   ]
  },
  {
   "cell_type": "code",
   "execution_count": 1030,
   "metadata": {},
   "outputs": [],
   "source": [
    "x_new_ones = np.c_[np.ones((2,1)),x_new]"
   ]
  },
  {
   "cell_type": "code",
   "execution_count": 1031,
   "metadata": {},
   "outputs": [
    {
     "data": {
      "text/plain": [
       "array([[1., 0.],\n",
       "       [1., 2.]])"
      ]
     },
     "execution_count": 1031,
     "metadata": {},
     "output_type": "execute_result"
    }
   ],
   "source": [
    "x_new_ones"
   ]
  },
  {
   "cell_type": "code",
   "execution_count": 1032,
   "metadata": {},
   "outputs": [],
   "source": [
    "y_predict = x_new_ones.dot(coeffs)"
   ]
  },
  {
   "cell_type": "code",
   "execution_count": 1033,
   "metadata": {},
   "outputs": [
    {
     "data": {
      "text/plain": [
       "array([[4.02981994],\n",
       "       [9.8506303 ]])"
      ]
     },
     "execution_count": 1033,
     "metadata": {},
     "output_type": "execute_result"
    }
   ],
   "source": [
    "y_predict"
   ]
  },
  {
   "cell_type": "markdown",
   "metadata": {},
   "source": [
    "### Let's plot the predictions."
   ]
  },
  {
   "cell_type": "code",
   "execution_count": 1034,
   "metadata": {},
   "outputs": [
    {
     "data": {
      "image/png": "[encoded data removed]",
      "text/plain": [
       "<Figure size 432x288 with 1 Axes>"
      ]
     },
     "metadata": {
      "needs_background": "light"
     },
     "output_type": "display_data"
    }
   ],
   "source": [
    "plt.plot(x_new,y_predict,\"r-\")\n",
    "plt.plot(x,y,\"b.\")\n",
    "plt.axis([0,2,0,15])\n",
    "plt.show()"
   ]
  },
  {
   "cell_type": "markdown",
   "metadata": {},
   "source": [
    "---"
   ]
  },
  {
   "cell_type": "markdown",
   "metadata": {},
   "source": [
    "### Let's use sklearn and check the coefficients"
   ]
  },
  {
   "cell_type": "code",
   "execution_count": 1035,
   "metadata": {},
   "outputs": [],
   "source": [
    "from sklearn.linear_model import LinearRegression"
   ]
  },
  {
   "cell_type": "code",
   "execution_count": 1036,
   "metadata": {},
   "outputs": [],
   "source": [
    "lin_reg = LinearRegression()"
   ]
  },
  {
   "cell_type": "code",
   "execution_count": 1037,
   "metadata": {},
   "outputs": [
    {
     "data": {
      "text/plain": [
       "LinearRegression(copy_X=True, fit_intercept=True, n_jobs=None,\n",
       "         normalize=False)"
      ]
     },
     "execution_count": 1037,
     "metadata": {},
     "output_type": "execute_result"
    }
   ],
   "source": [
    "lin_reg.fit(x,y)"
   ]
  },
  {
   "cell_type": "code",
   "execution_count": 1038,
   "metadata": {},
   "outputs": [
    {
     "data": {
      "text/plain": [
       "(array([4.00742783]), array([[2.92837142]]))"
      ]
     },
     "execution_count": 1038,
     "metadata": {},
     "output_type": "execute_result"
    }
   ],
   "source": [
    "lin_reg.intercept_,lin_reg.coef_"
   ]
  },
  {
   "cell_type": "markdown",
   "metadata": {},
   "source": [
    "The coefficients are exactly same."
   ]
  },
  {
   "cell_type": "markdown",
   "metadata": {},
   "source": [
    "### Let's predict using the fitted model and compare the values with the previous predictions"
   ]
  },
  {
   "cell_type": "code",
   "execution_count": 1039,
   "metadata": {},
   "outputs": [],
   "source": [
    "new_instances = np.array([[0],[2]])"
   ]
  },
  {
   "cell_type": "code",
   "execution_count": 1040,
   "metadata": {},
   "outputs": [
    {
     "data": {
      "text/plain": [
       "array([[4.00742783],\n",
       "       [9.86417067]])"
      ]
     },
     "execution_count": 1040,
     "metadata": {},
     "output_type": "execute_result"
    }
   ],
   "source": [
    "lin_reg.predict(new_instances)"
   ]
  },
  {
   "cell_type": "markdown",
   "metadata": {},
   "source": [
    "The predicted values are same as well."
   ]
  },
  {
   "cell_type": "markdown",
   "metadata": {},
   "source": [
    "---"
   ]
  },
  {
   "cell_type": "markdown",
   "metadata": {},
   "source": [
    "### Linear regression using SGD with Scikit-Learn"
   ]
  },
  {
   "cell_type": "code",
   "execution_count": 1041,
   "metadata": {},
   "outputs": [],
   "source": [
    "from sklearn.linear_model import SGDRegressor"
   ]
  },
  {
   "cell_type": "code",
   "execution_count": 1042,
   "metadata": {},
   "outputs": [],
   "source": [
    "sgd_reg = SGDRegressor(max_iter=2000,tol = 1e-5,penalty=None,eta0=0.1,random_state=42,shuffle = False)"
   ]
  },
  {
   "cell_type": "code",
   "execution_count": 1043,
   "metadata": {},
   "outputs": [
    {
     "data": {
      "text/plain": [
       "SGDRegressor(alpha=0.0001, average=False, early_stopping=False, epsilon=0.1,\n",
       "       eta0=0.1, fit_intercept=True, l1_ratio=0.15,\n",
       "       learning_rate='invscaling', loss='squared_loss', max_iter=2000,\n",
       "       n_iter=None, n_iter_no_change=5, penalty=None, power_t=0.25,\n",
       "       random_state=42, shuffle=False, tol=1e-05, validation_fraction=0.1,\n",
       "       verbose=0, warm_start=False)"
      ]
     },
     "execution_count": 1043,
     "metadata": {},
     "output_type": "execute_result"
    }
   ],
   "source": [
    "sgd_reg.fit(x,y.ravel())"
   ]
  },
  {
   "cell_type": "code",
   "execution_count": 1044,
   "metadata": {},
   "outputs": [
    {
     "data": {
      "text/plain": [
       "(array([4.00868758]), array([2.89821404]))"
      ]
     },
     "execution_count": 1044,
     "metadata": {},
     "output_type": "execute_result"
    }
   ],
   "source": [
    "sgd_reg.intercept_,sgd_reg.coef_"
   ]
  },
  {
   "cell_type": "code",
   "execution_count": null,
   "metadata": {},
   "outputs": [],
   "source": []
  }
 ],
 "metadata": {
  "kernelspec": {
   "display_name": "Python 3",
   "language": "python",
   "name": "python3"
  },
  "language_info": {
   "codemirror_mode": {
    "name": "ipython",
    "version": 3
   },
   "file_extension": ".py",
   "mimetype": "text/x-python",
   "name": "python",
   "nbconvert_exporter": "python",
   "pygments_lexer": "ipython3",
   "version": "3.7.1"
  }
 },
 "nbformat": 4,
 "nbformat_minor": 2
}
