{
 "cells": [
  {
   "cell_type": "code",
   "execution_count": 58,
   "metadata": {},
   "outputs": [
    {
     "name": "stdout",
     "output_type": "stream",
     "text": [
      "Once deleted, variables cannot be recovered. Proceed (y/[n])? y\n"
     ]
    }
   ],
   "source": [
    "%reset"
   ]
  },
  {
   "cell_type": "markdown",
   "metadata": {},
   "source": [
    "### Generate input data"
   ]
  },
  {
   "cell_type": "code",
   "execution_count": 59,
   "metadata": {},
   "outputs": [],
   "source": [
    "import numpy as np\n",
    "import matplotlib.pyplot as plt"
   ]
  },
  {
   "cell_type": "code",
   "execution_count": 60,
   "metadata": {},
   "outputs": [],
   "source": [
    "x = 2 * np.random.randn(100,1)"
   ]
  },
  {
   "cell_type": "code",
   "execution_count": 61,
   "metadata": {},
   "outputs": [],
   "source": [
    "y = 4 + 3* x + np.random.randn(100,1)"
   ]
  },
  {
   "cell_type": "code",
   "execution_count": 62,
   "metadata": {},
   "outputs": [
    {
     "data": {
      "image/png": "[encoded data removed]",
      "text/plain": [
       "<Figure size 432x288 with 1 Axes>"
      ]
     },
     "metadata": {
      "needs_background": "light"
     },
     "output_type": "display_data"
    }
   ],
   "source": [
    "plt.plot(x,y,'o')\n",
    "plt.show()"
   ]
  },
  {
   "cell_type": "markdown",
   "metadata": {},
   "source": [
    "### Let's compute the coefficients using the normal equation."
   ]
  },
  {
   "cell_type": "markdown",
   "metadata": {},
   "source": [
    "We will use inv() function of numpy's linear aljebra module but before that we need to add extra ones to the matrix of x."
   ]
  },
  {
   "cell_type": "code",
   "execution_count": 63,
   "metadata": {},
   "outputs": [],
   "source": [
    "x_ones = np.c_[np.ones((100,1)),x]"
   ]
  },
  {
   "cell_type": "code",
   "execution_count": 64,
   "metadata": {},
   "outputs": [
    {
     "data": {
      "text/plain": [
       "array([[ 1.        , -1.59700185],\n",
       "       [ 1.        , -0.29515863],\n",
       "       [ 1.        , -0.09745716],\n",
       "       [ 1.        ,  3.38507436],\n",
       "       [ 1.        ,  1.89105513],\n",
       "       [ 1.        ,  1.58961378],\n",
       "       [ 1.        , -1.8734697 ],\n",
       "       [ 1.        ,  4.01189299],\n",
       "       [ 1.        , -0.59480695],\n",
       "       [ 1.        ,  0.49592826],\n",
       "       [ 1.        , -1.61828787],\n",
       "       [ 1.        ,  0.19296915],\n",
       "       [ 1.        , -1.46926919],\n",
       "       [ 1.        , -1.05214211],\n",
       "       [ 1.        ,  2.15420459],\n",
       "       [ 1.        ,  4.53952316],\n",
       "       [ 1.        ,  0.17664639],\n",
       "       [ 1.        , -2.1972607 ],\n",
       "       [ 1.        , -3.00346633],\n",
       "       [ 1.        ,  2.43303809],\n",
       "       [ 1.        , -2.81543505],\n",
       "       [ 1.        , -0.83853874],\n",
       "       [ 1.        ,  2.39760117],\n",
       "       [ 1.        ,  0.76222339],\n",
       "       [ 1.        , -0.61106087],\n",
       "       [ 1.        ,  2.45866312],\n",
       "       [ 1.        ,  1.3097444 ],\n",
       "       [ 1.        ,  0.16868152],\n",
       "       [ 1.        , -2.46943784],\n",
       "       [ 1.        ,  0.13489196],\n",
       "       [ 1.        ,  0.4140755 ],\n",
       "       [ 1.        ,  2.5631461 ],\n",
       "       [ 1.        ,  2.84891731],\n",
       "       [ 1.        , -2.91786277],\n",
       "       [ 1.        ,  3.14252259],\n",
       "       [ 1.        , -4.13512927],\n",
       "       [ 1.        ,  0.42144765],\n",
       "       [ 1.        ,  0.65296663],\n",
       "       [ 1.        , -0.42759028],\n",
       "       [ 1.        ,  1.46646256],\n",
       "       [ 1.        ,  1.11425375],\n",
       "       [ 1.        ,  1.9198384 ],\n",
       "       [ 1.        , -0.2357809 ],\n",
       "       [ 1.        ,  0.65443506],\n",
       "       [ 1.        ,  1.6608605 ],\n",
       "       [ 1.        , -1.75314538],\n",
       "       [ 1.        ,  1.42315942],\n",
       "       [ 1.        , -2.00867224],\n",
       "       [ 1.        ,  2.18385105],\n",
       "       [ 1.        ,  1.2156198 ],\n",
       "       [ 1.        , -1.90661047],\n",
       "       [ 1.        , -1.9019912 ],\n",
       "       [ 1.        ,  0.31468746],\n",
       "       [ 1.        ,  0.90285241],\n",
       "       [ 1.        , -0.01158705],\n",
       "       [ 1.        ,  4.5145731 ],\n",
       "       [ 1.        , -2.69817436],\n",
       "       [ 1.        ,  0.3102348 ],\n",
       "       [ 1.        , -2.08466289],\n",
       "       [ 1.        ,  0.50177579],\n",
       "       [ 1.        ,  3.37001749],\n",
       "       [ 1.        , -1.45372352],\n",
       "       [ 1.        , -2.73424933],\n",
       "       [ 1.        ,  0.87534598],\n",
       "       [ 1.        ,  0.93418827],\n",
       "       [ 1.        , -0.84468911],\n",
       "       [ 1.        , -1.18568575],\n",
       "       [ 1.        , -0.96327691],\n",
       "       [ 1.        , -1.65150337],\n",
       "       [ 1.        ,  3.33907521],\n",
       "       [ 1.        , -0.66884642],\n",
       "       [ 1.        ,  2.09523935],\n",
       "       [ 1.        , -1.42716231],\n",
       "       [ 1.        , -1.08960267],\n",
       "       [ 1.        ,  1.55391648],\n",
       "       [ 1.        , -1.41131987],\n",
       "       [ 1.        , -2.53353624],\n",
       "       [ 1.        , -1.90560569],\n",
       "       [ 1.        ,  1.71091887],\n",
       "       [ 1.        ,  4.12724615],\n",
       "       [ 1.        ,  1.76494032],\n",
       "       [ 1.        ,  1.17757659],\n",
       "       [ 1.        ,  0.09853742],\n",
       "       [ 1.        ,  2.36971616],\n",
       "       [ 1.        ,  0.64212018],\n",
       "       [ 1.        ,  1.5132426 ],\n",
       "       [ 1.        , -1.57732028],\n",
       "       [ 1.        ,  2.75762818],\n",
       "       [ 1.        , -2.63375734],\n",
       "       [ 1.        ,  0.84862157],\n",
       "       [ 1.        ,  2.40234551],\n",
       "       [ 1.        ,  0.21949212],\n",
       "       [ 1.        ,  0.83785549],\n",
       "       [ 1.        , -0.51920152],\n",
       "       [ 1.        ,  0.38409695],\n",
       "       [ 1.        ,  0.71019128],\n",
       "       [ 1.        ,  0.63923261],\n",
       "       [ 1.        , -0.78844882],\n",
       "       [ 1.        , -0.26900479],\n",
       "       [ 1.        , -1.42711552]])"
      ]
     },
     "execution_count": 64,
     "metadata": {},
     "output_type": "execute_result"
    }
   ],
   "source": [
    "x_ones"
   ]
  },
  {
   "cell_type": "markdown",
   "metadata": {},
   "source": [
    "### Let's calculate the coefficients."
   ]
  },
  {
   "cell_type": "markdown",
   "metadata": {},
   "source": [
    "Calculating inverse of x transpose x"
   ]
  },
  {
   "cell_type": "code",
   "execution_count": 65,
   "metadata": {},
   "outputs": [
    {
     "data": {
      "text/plain": [
       "array([[ 0.01017613, -0.0007045 ],\n",
       "       [-0.0007045 ,  0.00281788]])"
      ]
     },
     "execution_count": 65,
     "metadata": {},
     "output_type": "execute_result"
    }
   ],
   "source": [
    "np.linalg.inv(x_ones.T.dot(x_ones))"
   ]
  },
  {
   "cell_type": "markdown",
   "metadata": {},
   "source": [
    "To calculate the coefficients we need to multiply the inversed values of x transpose x with the multiplication of x transpose y"
   ]
  },
  {
   "cell_type": "code",
   "execution_count": 66,
   "metadata": {},
   "outputs": [],
   "source": [
    "coeffs = np.linalg.inv(x_ones.T.dot(x_ones)).dot(x_ones.T).dot(y)"
   ]
  },
  {
   "cell_type": "code",
   "execution_count": 67,
   "metadata": {},
   "outputs": [
    {
     "data": {
      "text/plain": [
       "array([[3.99946087],\n",
       "       [3.04290402]])"
      ]
     },
     "execution_count": 67,
     "metadata": {},
     "output_type": "execute_result"
    }
   ],
   "source": [
    "coeffs"
   ]
  },
  {
   "cell_type": "markdown",
   "metadata": {},
   "source": [
    "3.97 is the value of intertcept and 3.03 is the coefficient of x"
   ]
  },
  {
   "cell_type": "markdown",
   "metadata": {},
   "source": [
    "### Let's predict for new instances."
   ]
  },
  {
   "cell_type": "code",
   "execution_count": 68,
   "metadata": {},
   "outputs": [],
   "source": [
    "x_new = np.array([[0],[2]])"
   ]
  },
  {
   "cell_type": "code",
   "execution_count": 69,
   "metadata": {},
   "outputs": [
    {
     "data": {
      "text/plain": [
       "array([[0],\n",
       "       [2]])"
      ]
     },
     "execution_count": 69,
     "metadata": {},
     "output_type": "execute_result"
    }
   ],
   "source": [
    "x_new"
   ]
  },
  {
   "cell_type": "code",
   "execution_count": 70,
   "metadata": {},
   "outputs": [],
   "source": [
    "x_new_ones = np.c_[np.ones((2,1)),x_new]"
   ]
  },
  {
   "cell_type": "code",
   "execution_count": 71,
   "metadata": {},
   "outputs": [
    {
     "data": {
      "text/plain": [
       "array([[1., 0.],\n",
       "       [1., 2.]])"
      ]
     },
     "execution_count": 71,
     "metadata": {},
     "output_type": "execute_result"
    }
   ],
   "source": [
    "x_new_ones"
   ]
  },
  {
   "cell_type": "code",
   "execution_count": 72,
   "metadata": {},
   "outputs": [],
   "source": [
    "y_predict = x_new_ones.dot(coeffs)"
   ]
  },
  {
   "cell_type": "code",
   "execution_count": 73,
   "metadata": {},
   "outputs": [
    {
     "data": {
      "text/plain": [
       "array([[ 3.99946087],\n",
       "       [10.0852689 ]])"
      ]
     },
     "execution_count": 73,
     "metadata": {},
     "output_type": "execute_result"
    }
   ],
   "source": [
    "y_predict"
   ]
  },
  {
   "cell_type": "markdown",
   "metadata": {},
   "source": [
    "### Let's plot the predictions."
   ]
  },
  {
   "cell_type": "code",
   "execution_count": 74,
   "metadata": {},
   "outputs": [
    {
     "data": {
      "image/png": "[encoded data removed]",
      "text/plain": [
       "<Figure size 432x288 with 1 Axes>"
      ]
     },
     "metadata": {
      "needs_background": "light"
     },
     "output_type": "display_data"
    }
   ],
   "source": [
    "plt.plot(x_new,y_predict,\"r-\")\n",
    "plt.plot(x,y,\"b.\")\n",
    "plt.axis([0,2,0,15])\n",
    "plt.show()"
   ]
  },
  {
   "cell_type": "markdown",
   "metadata": {},
   "source": [
    "---"
   ]
  },
  {
   "cell_type": "markdown",
   "metadata": {},
   "source": [
    "### Let's use sklearn and check the coefficients"
   ]
  },
  {
   "cell_type": "code",
   "execution_count": 75,
   "metadata": {},
   "outputs": [],
   "source": [
    "from sklearn.linear_model import LinearRegression"
   ]
  },
  {
   "cell_type": "code",
   "execution_count": 76,
   "metadata": {},
   "outputs": [],
   "source": [
    "lin_reg = LinearRegression()"
   ]
  },
  {
   "cell_type": "code",
   "execution_count": 77,
   "metadata": {},
   "outputs": [
    {
     "data": {
      "text/plain": [
       "LinearRegression(copy_X=True, fit_intercept=True, n_jobs=None,\n",
       "         normalize=False)"
      ]
     },
     "execution_count": 77,
     "metadata": {},
     "output_type": "execute_result"
    }
   ],
   "source": [
    "lin_reg.fit(x,y)"
   ]
  },
  {
   "cell_type": "code",
   "execution_count": 78,
   "metadata": {},
   "outputs": [
    {
     "data": {
      "text/plain": [
       "(array([3.99946087]), array([[3.04290402]]))"
      ]
     },
     "execution_count": 78,
     "metadata": {},
     "output_type": "execute_result"
    }
   ],
   "source": [
    "lin_reg.intercept_,lin_reg.coef_"
   ]
  },
  {
   "cell_type": "markdown",
   "metadata": {},
   "source": [
    "The coefficients are exactly same."
   ]
  }
 ],
 "metadata": {
  "kernelspec": {
   "display_name": "Python 3",
   "language": "python",
   "name": "python3"
  },
  "language_info": {
   "codemirror_mode": {
    "name": "ipython",
    "version": 3
   },
   "file_extension": ".py",
   "mimetype": "text/x-python",
   "name": "python",
   "nbconvert_exporter": "python",
   "pygments_lexer": "ipython3",
   "version": "3.7.1"
  }
 },
 "nbformat": 4,
 "nbformat_minor": 2
}
