{
 "cells": [
  {
   "cell_type": "code",
   "execution_count": 1,
   "metadata": {},
   "outputs": [
    {
     "name": "stdout",
     "output_type": "stream",
     "text": [
      "Once deleted, variables cannot be recovered. Proceed (y/[n])? y\n"
     ]
    }
   ],
   "source": [
    "%reset"
   ]
  },
  {
   "cell_type": "markdown",
   "metadata": {},
   "source": [
    "### Generate input data"
   ]
  },
  {
   "cell_type": "code",
   "execution_count": 2,
   "metadata": {},
   "outputs": [],
   "source": [
    "import numpy as np\n",
    "import matplotlib.pyplot as plt"
   ]
  },
  {
   "cell_type": "code",
   "execution_count": 3,
   "metadata": {},
   "outputs": [],
   "source": [
    "x = 2 * np.random.randn(100,1)"
   ]
  },
  {
   "cell_type": "code",
   "execution_count": 4,
   "metadata": {},
   "outputs": [],
   "source": [
    "y = 4 + 3* x + np.random.randn(100,1)"
   ]
  },
  {
   "cell_type": "code",
   "execution_count": 5,
   "metadata": {},
   "outputs": [
    {
     "data": {
      "image/png": "[encoded data removed]",
      "text/plain": [
       "<Figure size 432x288 with 1 Axes>"
      ]
     },
     "metadata": {
      "needs_background": "light"
     },
     "output_type": "display_data"
    }
   ],
   "source": [
    "plt.plot(x,y,'o')\n",
    "plt.show()"
   ]
  },
  {
   "cell_type": "markdown",
   "metadata": {},
   "source": [
    "### Let's compute the coefficients using the normal equation."
   ]
  },
  {
   "cell_type": "markdown",
   "metadata": {},
   "source": [
    "We will use inv() function of numpy's linear aljebra module but before that we need to add extra ones to the matrix of x."
   ]
  },
  {
   "cell_type": "code",
   "execution_count": 6,
   "metadata": {},
   "outputs": [],
   "source": [
    "x_ones = np.c_[np.ones((100,1)),x]"
   ]
  },
  {
   "cell_type": "code",
   "execution_count": 7,
   "metadata": {},
   "outputs": [
    {
     "data": {
      "text/plain": [
       "array([[ 1.        , -0.21313501],\n",
       "       [ 1.        , -0.16402155],\n",
       "       [ 1.        ,  3.42087025],\n",
       "       [ 1.        ,  0.35999805],\n",
       "       [ 1.        , -2.97817322],\n",
       "       [ 1.        , -1.29838855],\n",
       "       [ 1.        ,  4.53985647],\n",
       "       [ 1.        , -0.22210376],\n",
       "       [ 1.        ,  0.78833429],\n",
       "       [ 1.        , -1.09583085],\n",
       "       [ 1.        , -1.89965401],\n",
       "       [ 1.        ,  2.28808625],\n",
       "       [ 1.        ,  1.3600717 ],\n",
       "       [ 1.        , -2.70734376],\n",
       "       [ 1.        ,  1.35938715],\n",
       "       [ 1.        , -0.67315148],\n",
       "       [ 1.        , -0.30694356],\n",
       "       [ 1.        ,  1.76568974],\n",
       "       [ 1.        , -2.46419966],\n",
       "       [ 1.        ,  1.53712493],\n",
       "       [ 1.        ,  4.65870816],\n",
       "       [ 1.        , -1.47735905],\n",
       "       [ 1.        , -1.43773663],\n",
       "       [ 1.        ,  0.06449273],\n",
       "       [ 1.        ,  2.88257428],\n",
       "       [ 1.        ,  1.18340311],\n",
       "       [ 1.        ,  0.58426582],\n",
       "       [ 1.        , -0.40405805],\n",
       "       [ 1.        , -1.40157957],\n",
       "       [ 1.        , -2.5364002 ],\n",
       "       [ 1.        , -2.5211957 ],\n",
       "       [ 1.        , -1.56579694],\n",
       "       [ 1.        , -0.46130181],\n",
       "       [ 1.        ,  0.02717256],\n",
       "       [ 1.        ,  0.22275093],\n",
       "       [ 1.        ,  0.08430733],\n",
       "       [ 1.        , -0.88785926],\n",
       "       [ 1.        , -0.50982349],\n",
       "       [ 1.        , -2.15170727],\n",
       "       [ 1.        , -3.38312256],\n",
       "       [ 1.        , -0.68701094],\n",
       "       [ 1.        ,  0.30475268],\n",
       "       [ 1.        ,  2.22819839],\n",
       "       [ 1.        ,  2.99236401],\n",
       "       [ 1.        , -1.02712717],\n",
       "       [ 1.        ,  1.01110858],\n",
       "       [ 1.        , -2.95123526],\n",
       "       [ 1.        ,  0.9805237 ],\n",
       "       [ 1.        ,  1.82990667],\n",
       "       [ 1.        ,  0.92091817],\n",
       "       [ 1.        ,  5.17448293],\n",
       "       [ 1.        , -2.60744224],\n",
       "       [ 1.        ,  3.85093276],\n",
       "       [ 1.        , -1.38659817],\n",
       "       [ 1.        , -3.41620006],\n",
       "       [ 1.        , -0.36660683],\n",
       "       [ 1.        ,  2.10867531],\n",
       "       [ 1.        , -2.0476249 ],\n",
       "       [ 1.        , -0.54447457],\n",
       "       [ 1.        ,  0.28656225],\n",
       "       [ 1.        ,  4.14241579],\n",
       "       [ 1.        ,  3.20524782],\n",
       "       [ 1.        , -1.51964727],\n",
       "       [ 1.        , -0.36072523],\n",
       "       [ 1.        ,  0.73293158],\n",
       "       [ 1.        ,  2.8220305 ],\n",
       "       [ 1.        ,  0.12495402],\n",
       "       [ 1.        ,  3.89222166],\n",
       "       [ 1.        , -3.07188232],\n",
       "       [ 1.        , -2.01595637],\n",
       "       [ 1.        , -2.49891074],\n",
       "       [ 1.        , -2.40584981],\n",
       "       [ 1.        ,  1.03886051],\n",
       "       [ 1.        , -0.30726221],\n",
       "       [ 1.        ,  1.13159726],\n",
       "       [ 1.        , -1.27344615],\n",
       "       [ 1.        , -0.0853996 ],\n",
       "       [ 1.        ,  1.57649788],\n",
       "       [ 1.        ,  0.29274071],\n",
       "       [ 1.        ,  3.01145428],\n",
       "       [ 1.        ,  1.25242107],\n",
       "       [ 1.        ,  1.02195237],\n",
       "       [ 1.        ,  3.14174702],\n",
       "       [ 1.        , -0.61659468],\n",
       "       [ 1.        , -2.50034726],\n",
       "       [ 1.        ,  1.90593017],\n",
       "       [ 1.        ,  3.25213109],\n",
       "       [ 1.        , -0.71117885],\n",
       "       [ 1.        ,  2.39852462],\n",
       "       [ 1.        , -1.20025484],\n",
       "       [ 1.        , -0.89691371],\n",
       "       [ 1.        , -0.07811414],\n",
       "       [ 1.        , -2.54292054],\n",
       "       [ 1.        ,  2.53494936],\n",
       "       [ 1.        , -3.17836246],\n",
       "       [ 1.        ,  0.94864953],\n",
       "       [ 1.        ,  1.55594017],\n",
       "       [ 1.        , -0.78823898],\n",
       "       [ 1.        ,  0.32987942],\n",
       "       [ 1.        ,  3.51856567]])"
      ]
     },
     "execution_count": 7,
     "metadata": {},
     "output_type": "execute_result"
    }
   ],
   "source": [
    "x_ones"
   ]
  },
  {
   "cell_type": "markdown",
   "metadata": {},
   "source": [
    "### Let's calculate the coefficients."
   ]
  },
  {
   "cell_type": "markdown",
   "metadata": {},
   "source": [
    "Calculating inverse of x transpose x"
   ]
  },
  {
   "cell_type": "code",
   "execution_count": 8,
   "metadata": {},
   "outputs": [
    {
     "data": {
      "text/plain": [
       "array([[ 0.0100838 , -0.00044573],\n",
       "       [-0.00044573,  0.00237089]])"
      ]
     },
     "execution_count": 8,
     "metadata": {},
     "output_type": "execute_result"
    }
   ],
   "source": [
    "np.linalg.inv(x_ones.T.dot(x_ones))"
   ]
  },
  {
   "cell_type": "markdown",
   "metadata": {},
   "source": [
    "To calculate the coefficients we need to multiply the inversed values of x transpose x with the multiplication of x transpose y"
   ]
  },
  {
   "cell_type": "code",
   "execution_count": 9,
   "metadata": {},
   "outputs": [],
   "source": [
    "coeffs = np.linalg.inv(x_ones.T.dot(x_ones)).dot(x_ones.T).dot(y)"
   ]
  },
  {
   "cell_type": "code",
   "execution_count": 10,
   "metadata": {},
   "outputs": [
    {
     "data": {
      "text/plain": [
       "array([[4.01844668],\n",
       "       [3.09325309]])"
      ]
     },
     "execution_count": 10,
     "metadata": {},
     "output_type": "execute_result"
    }
   ],
   "source": [
    "coeffs"
   ]
  },
  {
   "cell_type": "markdown",
   "metadata": {},
   "source": [
    "3.97 is the value of intertcept and 3.03 is the coefficient of x"
   ]
  },
  {
   "cell_type": "markdown",
   "metadata": {},
   "source": [
    "### Let's predict for new instances."
   ]
  },
  {
   "cell_type": "code",
   "execution_count": 11,
   "metadata": {},
   "outputs": [],
   "source": [
    "x_new = np.array([[0],[2]])"
   ]
  },
  {
   "cell_type": "code",
   "execution_count": 12,
   "metadata": {},
   "outputs": [
    {
     "data": {
      "text/plain": [
       "array([[0],\n",
       "       [2]])"
      ]
     },
     "execution_count": 12,
     "metadata": {},
     "output_type": "execute_result"
    }
   ],
   "source": [
    "x_new"
   ]
  },
  {
   "cell_type": "code",
   "execution_count": 13,
   "metadata": {},
   "outputs": [],
   "source": [
    "x_new_ones = np.c_[np.ones((2,1)),x_new]"
   ]
  },
  {
   "cell_type": "code",
   "execution_count": 14,
   "metadata": {},
   "outputs": [
    {
     "data": {
      "text/plain": [
       "array([[1., 0.],\n",
       "       [1., 2.]])"
      ]
     },
     "execution_count": 14,
     "metadata": {},
     "output_type": "execute_result"
    }
   ],
   "source": [
    "x_new_ones"
   ]
  },
  {
   "cell_type": "code",
   "execution_count": 15,
   "metadata": {},
   "outputs": [],
   "source": [
    "y_predict = x_new_ones.dot(coeffs)"
   ]
  },
  {
   "cell_type": "code",
   "execution_count": 16,
   "metadata": {},
   "outputs": [
    {
     "data": {
      "text/plain": [
       "array([[ 4.01844668],\n",
       "       [10.20495286]])"
      ]
     },
     "execution_count": 16,
     "metadata": {},
     "output_type": "execute_result"
    }
   ],
   "source": [
    "y_predict"
   ]
  },
  {
   "cell_type": "markdown",
   "metadata": {},
   "source": [
    "### Let's plot the predictions."
   ]
  },
  {
   "cell_type": "code",
   "execution_count": 17,
   "metadata": {},
   "outputs": [
    {
     "data": {
      "image/png": "[encoded data removed]",
      "text/plain": [
       "<Figure size 432x288 with 1 Axes>"
      ]
     },
     "metadata": {
      "needs_background": "light"
     },
     "output_type": "display_data"
    }
   ],
   "source": [
    "plt.plot(x_new,y_predict,\"r-\")\n",
    "plt.plot(x,y,\"b.\")\n",
    "plt.axis([0,2,0,15])\n",
    "plt.show()"
   ]
  },
  {
   "cell_type": "markdown",
   "metadata": {},
   "source": [
    "---"
   ]
  },
  {
   "cell_type": "markdown",
   "metadata": {},
   "source": [
    "### Let's use sklearn and check the coefficients"
   ]
  },
  {
   "cell_type": "code",
   "execution_count": 18,
   "metadata": {},
   "outputs": [],
   "source": [
    "from sklearn.linear_model import LinearRegression"
   ]
  },
  {
   "cell_type": "code",
   "execution_count": 19,
   "metadata": {},
   "outputs": [],
   "source": [
    "lin_reg = LinearRegression()"
   ]
  },
  {
   "cell_type": "code",
   "execution_count": 20,
   "metadata": {},
   "outputs": [
    {
     "data": {
      "text/plain": [
       "LinearRegression(copy_X=True, fit_intercept=True, n_jobs=None,\n",
       "         normalize=False)"
      ]
     },
     "execution_count": 20,
     "metadata": {},
     "output_type": "execute_result"
    }
   ],
   "source": [
    "lin_reg.fit(x,y)"
   ]
  },
  {
   "cell_type": "code",
   "execution_count": 21,
   "metadata": {},
   "outputs": [
    {
     "data": {
      "text/plain": [
       "(array([4.01844668]), array([[3.09325309]]))"
      ]
     },
     "execution_count": 21,
     "metadata": {},
     "output_type": "execute_result"
    }
   ],
   "source": [
    "lin_reg.intercept_,lin_reg.coef_"
   ]
  },
  {
   "cell_type": "markdown",
   "metadata": {},
   "source": [
    "The coefficients are exactly same."
   ]
  },
  {
   "cell_type": "markdown",
   "metadata": {},
   "source": [
    "### Let's predict using the fitted model and compare the values with the previous predictions"
   ]
  },
  {
   "cell_type": "code",
   "execution_count": 23,
   "metadata": {},
   "outputs": [],
   "source": [
    "new_instances = np.array([[0],[2]])"
   ]
  },
  {
   "cell_type": "code",
   "execution_count": 25,
   "metadata": {},
   "outputs": [
    {
     "data": {
      "text/plain": [
       "array([[ 4.01844668],\n",
       "       [10.20495286]])"
      ]
     },
     "execution_count": 25,
     "metadata": {},
     "output_type": "execute_result"
    }
   ],
   "source": [
    "lin_reg.predict(new_instances)"
   ]
  },
  {
   "cell_type": "markdown",
   "metadata": {},
   "source": [
    "The predicted values are same as well."
   ]
  },
  {
   "cell_type": "code",
   "execution_count": null,
   "metadata": {},
   "outputs": [],
   "source": []
  }
 ],
 "metadata": {
  "kernelspec": {
   "display_name": "Python 3",
   "language": "python",
   "name": "python3"
  },
  "language_info": {
   "codemirror_mode": {
    "name": "ipython",
    "version": 3
   },
   "file_extension": ".py",
   "mimetype": "text/x-python",
   "name": "python",
   "nbconvert_exporter": "python",
   "pygments_lexer": "ipython3",
   "version": "3.7.1"
  }
 },
 "nbformat": 4,
 "nbformat_minor": 2
}
