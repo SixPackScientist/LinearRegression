{
 "cells": [
  {
   "cell_type": "code",
   "execution_count": 1,
   "metadata": {},
   "outputs": [
    {
     "name": "stdout",
     "output_type": "stream",
     "text": [
      "Once deleted, variables cannot be recovered. Proceed (y/[n])? y\n"
     ]
    }
   ],
   "source": [
    "%reset"
   ]
  },
  {
   "cell_type": "markdown",
   "metadata": {},
   "source": [
    "### Generate input data"
   ]
  },
  {
   "cell_type": "code",
   "execution_count": 2,
   "metadata": {},
   "outputs": [],
   "source": [
    "import numpy as np\n",
    "import matplotlib.pyplot as plt"
   ]
  },
  {
   "cell_type": "code",
   "execution_count": 3,
   "metadata": {},
   "outputs": [],
   "source": [
    "x = 2 * np.random.randn(100,1)"
   ]
  },
  {
   "cell_type": "code",
   "execution_count": 4,
   "metadata": {},
   "outputs": [],
   "source": [
    "y = 4 + 3* x + np.random.randn(100,1)"
   ]
  },
  {
   "cell_type": "code",
   "execution_count": 5,
   "metadata": {},
   "outputs": [
    {
     "data": {
      "image/png": "[encoded data removed]",
      "text/plain": [
       "<Figure size 432x288 with 1 Axes>"
      ]
     },
     "metadata": {
      "needs_background": "light"
     },
     "output_type": "display_data"
    }
   ],
   "source": [
    "plt.plot(x,y,'o')\n",
    "plt.show()"
   ]
  },
  {
   "cell_type": "markdown",
   "metadata": {},
   "source": [
    "### Let's compute the coefficients using the normal equation."
   ]
  },
  {
   "cell_type": "markdown",
   "metadata": {},
   "source": [
    "We will use inv() function of numpy's linear aljebra module but before that we need to add extra ones to the matrix of x."
   ]
  },
  {
   "cell_type": "code",
   "execution_count": 6,
   "metadata": {},
   "outputs": [],
   "source": [
    "x_ones = np.c_[np.ones((100,1)),x]"
   ]
  },
  {
   "cell_type": "code",
   "execution_count": 7,
   "metadata": {},
   "outputs": [
    {
     "data": {
      "text/plain": [
       "array([[ 1.        ,  1.80536948],\n",
       "       [ 1.        ,  2.42984656],\n",
       "       [ 1.        ,  0.43469201],\n",
       "       [ 1.        , -1.95588261],\n",
       "       [ 1.        ,  3.1915583 ],\n",
       "       [ 1.        , -1.79647932],\n",
       "       [ 1.        ,  0.29583692],\n",
       "       [ 1.        , -0.13152706],\n",
       "       [ 1.        ,  5.74017354],\n",
       "       [ 1.        ,  2.3269808 ],\n",
       "       [ 1.        ,  0.70614548],\n",
       "       [ 1.        ,  2.726862  ],\n",
       "       [ 1.        ,  0.95021367],\n",
       "       [ 1.        ,  0.0959115 ],\n",
       "       [ 1.        ,  1.31642004],\n",
       "       [ 1.        ,  0.39343352],\n",
       "       [ 1.        , -2.81244596],\n",
       "       [ 1.        , -4.64081171],\n",
       "       [ 1.        , -0.08536869],\n",
       "       [ 1.        , -2.65245711],\n",
       "       [ 1.        ,  1.55562272],\n",
       "       [ 1.        ,  0.22342516],\n",
       "       [ 1.        , -1.24089664],\n",
       "       [ 1.        ,  1.32696111],\n",
       "       [ 1.        ,  2.2607697 ],\n",
       "       [ 1.        ,  1.37015574],\n",
       "       [ 1.        ,  0.41658827],\n",
       "       [ 1.        ,  3.81511818],\n",
       "       [ 1.        , -2.33260486],\n",
       "       [ 1.        , -0.14735622],\n",
       "       [ 1.        ,  0.36242208],\n",
       "       [ 1.        ,  3.10117936],\n",
       "       [ 1.        , -1.62092891],\n",
       "       [ 1.        ,  1.29374141],\n",
       "       [ 1.        , -2.36780138],\n",
       "       [ 1.        ,  2.165189  ],\n",
       "       [ 1.        ,  0.06451279],\n",
       "       [ 1.        ,  0.98528203],\n",
       "       [ 1.        , -1.99073059],\n",
       "       [ 1.        , -1.21550581],\n",
       "       [ 1.        ,  0.79334445],\n",
       "       [ 1.        ,  2.26846614],\n",
       "       [ 1.        , -1.85389296],\n",
       "       [ 1.        ,  1.96680843],\n",
       "       [ 1.        ,  2.10024677],\n",
       "       [ 1.        , -0.82715443],\n",
       "       [ 1.        ,  1.89296546],\n",
       "       [ 1.        , -1.78575924],\n",
       "       [ 1.        , -0.40286939],\n",
       "       [ 1.        ,  2.57913995],\n",
       "       [ 1.        , -0.85951267],\n",
       "       [ 1.        , -2.7949052 ],\n",
       "       [ 1.        , -0.19498638],\n",
       "       [ 1.        , -0.1225308 ],\n",
       "       [ 1.        ,  2.51141553],\n",
       "       [ 1.        ,  1.30087464],\n",
       "       [ 1.        , -1.06369977],\n",
       "       [ 1.        , -0.81374596],\n",
       "       [ 1.        , -3.20409165],\n",
       "       [ 1.        ,  1.84434642],\n",
       "       [ 1.        ,  1.92009385],\n",
       "       [ 1.        , -3.55783571],\n",
       "       [ 1.        ,  1.33986771],\n",
       "       [ 1.        ,  1.52859569],\n",
       "       [ 1.        ,  1.01643448],\n",
       "       [ 1.        , -1.37050995],\n",
       "       [ 1.        , -0.83345142],\n",
       "       [ 1.        , -0.43999172],\n",
       "       [ 1.        ,  2.30787138],\n",
       "       [ 1.        , -0.72917956],\n",
       "       [ 1.        ,  1.07119729],\n",
       "       [ 1.        ,  0.16801669],\n",
       "       [ 1.        , -1.62731884],\n",
       "       [ 1.        , -1.38154141],\n",
       "       [ 1.        , -1.51585313],\n",
       "       [ 1.        , -2.28118762],\n",
       "       [ 1.        , -2.70874284],\n",
       "       [ 1.        , -0.69273462],\n",
       "       [ 1.        , -1.76075409],\n",
       "       [ 1.        ,  1.00949754],\n",
       "       [ 1.        ,  1.03068496],\n",
       "       [ 1.        ,  1.20990867],\n",
       "       [ 1.        , -2.35275897],\n",
       "       [ 1.        ,  1.57024772],\n",
       "       [ 1.        ,  0.10305016],\n",
       "       [ 1.        , -0.89245438],\n",
       "       [ 1.        ,  1.85878574],\n",
       "       [ 1.        ,  3.36610906],\n",
       "       [ 1.        ,  1.26440867],\n",
       "       [ 1.        ,  0.62966544],\n",
       "       [ 1.        , -0.75407744],\n",
       "       [ 1.        , -2.85286095],\n",
       "       [ 1.        , -0.61873373],\n",
       "       [ 1.        ,  0.23505533],\n",
       "       [ 1.        ,  1.35968251],\n",
       "       [ 1.        , -0.81348477],\n",
       "       [ 1.        ,  3.88556043],\n",
       "       [ 1.        , -0.73081963],\n",
       "       [ 1.        , -1.00617767],\n",
       "       [ 1.        ,  3.41345062]])"
      ]
     },
     "execution_count": 7,
     "metadata": {},
     "output_type": "execute_result"
    }
   ],
   "source": [
    "x_ones"
   ]
  },
  {
   "cell_type": "markdown",
   "metadata": {},
   "source": [
    "### Let's calculate the coefficients."
   ]
  },
  {
   "cell_type": "markdown",
   "metadata": {},
   "source": [
    "Calculating inverse of x transpose x"
   ]
  },
  {
   "cell_type": "code",
   "execution_count": 8,
   "metadata": {},
   "outputs": [
    {
     "data": {
      "text/plain": [
       "array([[ 0.0101237 , -0.00058719],\n",
       "       [-0.00058719,  0.00278741]])"
      ]
     },
     "execution_count": 8,
     "metadata": {},
     "output_type": "execute_result"
    }
   ],
   "source": [
    "np.linalg.inv(x_ones.T.dot(x_ones))"
   ]
  },
  {
   "cell_type": "markdown",
   "metadata": {},
   "source": [
    "To calculate the coefficients we need to multiply the inversed values of x transpose x with the multiplication of x transpose y"
   ]
  },
  {
   "cell_type": "code",
   "execution_count": 9,
   "metadata": {},
   "outputs": [],
   "source": [
    "coeffs = np.linalg.inv(x_ones.T.dot(x_ones)).dot(x_ones.T).dot(y)"
   ]
  },
  {
   "cell_type": "code",
   "execution_count": 10,
   "metadata": {},
   "outputs": [
    {
     "data": {
      "text/plain": [
       "array([[3.97882433],\n",
       "       [2.9741954 ]])"
      ]
     },
     "execution_count": 10,
     "metadata": {},
     "output_type": "execute_result"
    }
   ],
   "source": [
    "coeffs"
   ]
  },
  {
   "cell_type": "markdown",
   "metadata": {},
   "source": [
    "3.97 is the value of intertcept and 3.03 is the coefficient of x"
   ]
  },
  {
   "cell_type": "markdown",
   "metadata": {},
   "source": [
    "### Let's predict for new instances."
   ]
  },
  {
   "cell_type": "code",
   "execution_count": 11,
   "metadata": {},
   "outputs": [],
   "source": [
    "x_new = np.array([[0],[2]])"
   ]
  },
  {
   "cell_type": "code",
   "execution_count": 12,
   "metadata": {},
   "outputs": [
    {
     "data": {
      "text/plain": [
       "array([[0],\n",
       "       [2]])"
      ]
     },
     "execution_count": 12,
     "metadata": {},
     "output_type": "execute_result"
    }
   ],
   "source": [
    "x_new"
   ]
  },
  {
   "cell_type": "code",
   "execution_count": 13,
   "metadata": {},
   "outputs": [],
   "source": [
    "x_new_ones = np.c_[np.ones((2,1)),x_new]"
   ]
  },
  {
   "cell_type": "code",
   "execution_count": 14,
   "metadata": {},
   "outputs": [
    {
     "data": {
      "text/plain": [
       "array([[1., 0.],\n",
       "       [1., 2.]])"
      ]
     },
     "execution_count": 14,
     "metadata": {},
     "output_type": "execute_result"
    }
   ],
   "source": [
    "x_new_ones"
   ]
  },
  {
   "cell_type": "code",
   "execution_count": 15,
   "metadata": {},
   "outputs": [],
   "source": [
    "y_predict = x_new_ones.dot(coeffs)"
   ]
  },
  {
   "cell_type": "code",
   "execution_count": 16,
   "metadata": {},
   "outputs": [
    {
     "data": {
      "text/plain": [
       "array([[3.97882433],\n",
       "       [9.92721512]])"
      ]
     },
     "execution_count": 16,
     "metadata": {},
     "output_type": "execute_result"
    }
   ],
   "source": [
    "y_predict"
   ]
  },
  {
   "cell_type": "markdown",
   "metadata": {},
   "source": [
    "### Let's plot the predictions."
   ]
  },
  {
   "cell_type": "code",
   "execution_count": 17,
   "metadata": {},
   "outputs": [
    {
     "data": {
      "image/png": "[encoded data removed]",
      "text/plain": [
       "<Figure size 432x288 with 1 Axes>"
      ]
     },
     "metadata": {
      "needs_background": "light"
     },
     "output_type": "display_data"
    }
   ],
   "source": [
    "plt.plot(x_new,y_predict,\"r-\")\n",
    "plt.plot(x,y,\"b.\")\n",
    "plt.axis([0,2,0,15])\n",
    "plt.show()"
   ]
  },
  {
   "cell_type": "markdown",
   "metadata": {},
   "source": [
    "---"
   ]
  },
  {
   "cell_type": "markdown",
   "metadata": {},
   "source": [
    "### Let's use sklearn and check the coefficients"
   ]
  },
  {
   "cell_type": "code",
   "execution_count": 18,
   "metadata": {},
   "outputs": [],
   "source": [
    "from sklearn.linear_model import LinearRegression"
   ]
  },
  {
   "cell_type": "code",
   "execution_count": 19,
   "metadata": {},
   "outputs": [],
   "source": [
    "lin_reg = LinearRegression()"
   ]
  },
  {
   "cell_type": "code",
   "execution_count": 20,
   "metadata": {},
   "outputs": [
    {
     "data": {
      "text/plain": [
       "LinearRegression(copy_X=True, fit_intercept=True, n_jobs=None,\n",
       "         normalize=False)"
      ]
     },
     "execution_count": 20,
     "metadata": {},
     "output_type": "execute_result"
    }
   ],
   "source": [
    "lin_reg.fit(x,y)"
   ]
  },
  {
   "cell_type": "code",
   "execution_count": 21,
   "metadata": {},
   "outputs": [
    {
     "data": {
      "text/plain": [
       "(array([3.97882433]), array([[2.9741954]]))"
      ]
     },
     "execution_count": 21,
     "metadata": {},
     "output_type": "execute_result"
    }
   ],
   "source": [
    "lin_reg.intercept_,lin_reg.coef_"
   ]
  },
  {
   "cell_type": "markdown",
   "metadata": {},
   "source": [
    "The coefficients are exactly same."
   ]
  },
  {
   "cell_type": "code",
   "execution_count": null,
   "metadata": {},
   "outputs": [],
   "source": []
  }
 ],
 "metadata": {
  "kernelspec": {
   "display_name": "Python 3",
   "language": "python",
   "name": "python3"
  },
  "language_info": {
   "codemirror_mode": {
    "name": "ipython",
    "version": 3
   },
   "file_extension": ".py",
   "mimetype": "text/x-python",
   "name": "python",
   "nbconvert_exporter": "python",
   "pygments_lexer": "ipython3",
   "version": "3.7.1"
  }
 },
 "nbformat": 4,
 "nbformat_minor": 2
}
