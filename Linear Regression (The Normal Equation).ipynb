{
 "cells": [
  {
   "cell_type": "code",
   "execution_count": 28,
   "metadata": {},
   "outputs": [
    {
     "name": "stdout",
     "output_type": "stream",
     "text": [
      "Once deleted, variables cannot be recovered. Proceed (y/[n])? y\n"
     ]
    }
   ],
   "source": [
    "%reset"
   ]
  },
  {
   "cell_type": "markdown",
   "metadata": {},
   "source": [
    "### Generate input data"
   ]
  },
  {
   "cell_type": "code",
   "execution_count": 29,
   "metadata": {},
   "outputs": [],
   "source": [
    "import numpy as np\n",
    "import matplotlib.pyplot as plt"
   ]
  },
  {
   "cell_type": "code",
   "execution_count": 30,
   "metadata": {},
   "outputs": [],
   "source": [
    "x = 2 * np.random.randn(100,1)"
   ]
  },
  {
   "cell_type": "code",
   "execution_count": 31,
   "metadata": {},
   "outputs": [],
   "source": [
    "y = 4 + 3* x + np.random.randn(100,1)"
   ]
  },
  {
   "cell_type": "code",
   "execution_count": 32,
   "metadata": {},
   "outputs": [
    {
     "data": {
      "image/png": "[encoded data removed]",
      "text/plain": [
       "<Figure size 432x288 with 1 Axes>"
      ]
     },
     "metadata": {
      "needs_background": "light"
     },
     "output_type": "display_data"
    }
   ],
   "source": [
    "plt.plot(x,y,'o')\n",
    "plt.show()"
   ]
  },
  {
   "cell_type": "markdown",
   "metadata": {},
   "source": [
    "### Let's compute the coefficients using the normal equation."
   ]
  },
  {
   "cell_type": "markdown",
   "metadata": {},
   "source": [
    "We will use inv() function of numpy's linear aljebra module but before that we need to add extra ones to the matrix of x."
   ]
  },
  {
   "cell_type": "code",
   "execution_count": 33,
   "metadata": {},
   "outputs": [],
   "source": [
    "x_ones = np.c_[np.ones((100,1)),x]"
   ]
  },
  {
   "cell_type": "code",
   "execution_count": 34,
   "metadata": {},
   "outputs": [
    {
     "data": {
      "text/plain": [
       "array([[ 1.        , -1.12398197],\n",
       "       [ 1.        ,  0.36358273],\n",
       "       [ 1.        , -2.18459098],\n",
       "       [ 1.        ,  0.6925202 ],\n",
       "       [ 1.        , -2.15512256],\n",
       "       [ 1.        ,  3.81584382],\n",
       "       [ 1.        ,  2.75024156],\n",
       "       [ 1.        , -0.68383065],\n",
       "       [ 1.        ,  0.36207148],\n",
       "       [ 1.        ,  2.55725593],\n",
       "       [ 1.        ,  1.19098334],\n",
       "       [ 1.        ,  1.02769811],\n",
       "       [ 1.        ,  0.89994244],\n",
       "       [ 1.        , -0.83258137],\n",
       "       [ 1.        ,  1.17386921],\n",
       "       [ 1.        , -1.70866562],\n",
       "       [ 1.        ,  0.46072806],\n",
       "       [ 1.        ,  0.03317449],\n",
       "       [ 1.        ,  1.76871429],\n",
       "       [ 1.        ,  3.29245864],\n",
       "       [ 1.        , -0.36542322],\n",
       "       [ 1.        ,  2.72644089],\n",
       "       [ 1.        , -2.73267569],\n",
       "       [ 1.        , -0.99990054],\n",
       "       [ 1.        ,  1.70557066],\n",
       "       [ 1.        , -2.12764625],\n",
       "       [ 1.        , -2.41443274],\n",
       "       [ 1.        , -1.24886053],\n",
       "       [ 1.        , -0.35577097],\n",
       "       [ 1.        ,  2.72531635],\n",
       "       [ 1.        , -0.40984333],\n",
       "       [ 1.        , -0.95922924],\n",
       "       [ 1.        ,  1.30397982],\n",
       "       [ 1.        ,  2.45283342],\n",
       "       [ 1.        , -2.33259945],\n",
       "       [ 1.        , -1.51586407],\n",
       "       [ 1.        , -0.09591842],\n",
       "       [ 1.        ,  0.50797799],\n",
       "       [ 1.        , -4.86322491],\n",
       "       [ 1.        ,  0.02856773],\n",
       "       [ 1.        ,  0.36190004],\n",
       "       [ 1.        , -1.25410168],\n",
       "       [ 1.        ,  1.27433796],\n",
       "       [ 1.        ,  1.0614597 ],\n",
       "       [ 1.        ,  2.24223009],\n",
       "       [ 1.        ,  1.64080634],\n",
       "       [ 1.        , -2.18460081],\n",
       "       [ 1.        , -1.22530469],\n",
       "       [ 1.        ,  1.37231304],\n",
       "       [ 1.        ,  1.93805556],\n",
       "       [ 1.        , -2.54106205],\n",
       "       [ 1.        , -2.8172229 ],\n",
       "       [ 1.        ,  0.48410292],\n",
       "       [ 1.        ,  1.74599772],\n",
       "       [ 1.        , -0.65116703],\n",
       "       [ 1.        , -0.77248983],\n",
       "       [ 1.        ,  2.15307183],\n",
       "       [ 1.        , -2.55991914],\n",
       "       [ 1.        , -0.61523342],\n",
       "       [ 1.        ,  1.36875412],\n",
       "       [ 1.        ,  0.45537904],\n",
       "       [ 1.        , -0.64319791],\n",
       "       [ 1.        ,  0.14296724],\n",
       "       [ 1.        ,  1.44648983],\n",
       "       [ 1.        ,  0.9294452 ],\n",
       "       [ 1.        ,  0.86653071],\n",
       "       [ 1.        , -0.25135995],\n",
       "       [ 1.        ,  1.27230337],\n",
       "       [ 1.        ,  4.17603574],\n",
       "       [ 1.        ,  3.52076496],\n",
       "       [ 1.        ,  1.48338494],\n",
       "       [ 1.        ,  1.68333532],\n",
       "       [ 1.        , -0.17308378],\n",
       "       [ 1.        , -1.0895683 ],\n",
       "       [ 1.        , -0.151789  ],\n",
       "       [ 1.        , -0.71719655],\n",
       "       [ 1.        ,  0.04883429],\n",
       "       [ 1.        , -2.89496149],\n",
       "       [ 1.        ,  1.08929745],\n",
       "       [ 1.        , -0.08616575],\n",
       "       [ 1.        ,  1.05714109],\n",
       "       [ 1.        ,  0.12241483],\n",
       "       [ 1.        , -3.51545507],\n",
       "       [ 1.        , -0.89624828],\n",
       "       [ 1.        ,  1.60364669],\n",
       "       [ 1.        , -1.66361646],\n",
       "       [ 1.        ,  2.49074713],\n",
       "       [ 1.        ,  1.57999565],\n",
       "       [ 1.        , -2.02357708],\n",
       "       [ 1.        ,  0.40095874],\n",
       "       [ 1.        , -1.14287335],\n",
       "       [ 1.        ,  0.05071641],\n",
       "       [ 1.        , -1.86088796],\n",
       "       [ 1.        ,  1.38058809],\n",
       "       [ 1.        ,  0.08031798],\n",
       "       [ 1.        , -6.51750833],\n",
       "       [ 1.        , -1.55504307],\n",
       "       [ 1.        ,  1.78530756],\n",
       "       [ 1.        ,  1.15307981],\n",
       "       [ 1.        , -0.36060514]])"
      ]
     },
     "execution_count": 34,
     "metadata": {},
     "output_type": "execute_result"
    }
   ],
   "source": [
    "x_ones"
   ]
  },
  {
   "cell_type": "markdown",
   "metadata": {},
   "source": [
    "### Let's calculate the coefficients."
   ]
  },
  {
   "cell_type": "markdown",
   "metadata": {},
   "source": [
    "Calculating inverse of x transpose x"
   ]
  },
  {
   "cell_type": "code",
   "execution_count": 35,
   "metadata": {},
   "outputs": [
    {
     "data": {
      "text/plain": [
       "array([[ 0.01001458, -0.00020752],\n",
       "       [-0.00020752,  0.00295275]])"
      ]
     },
     "execution_count": 35,
     "metadata": {},
     "output_type": "execute_result"
    }
   ],
   "source": [
    "np.linalg.inv(x_ones.T.dot(x_ones))"
   ]
  },
  {
   "cell_type": "markdown",
   "metadata": {},
   "source": [
    "To calculate the coefficients we need to multiply the inversed values of x transpose x with the multiplication of x transpose y"
   ]
  },
  {
   "cell_type": "code",
   "execution_count": 36,
   "metadata": {},
   "outputs": [],
   "source": [
    "coeffs = np.linalg.inv(x_ones.T.dot(x_ones)).dot(x_ones.T).dot(y)"
   ]
  },
  {
   "cell_type": "code",
   "execution_count": 37,
   "metadata": {},
   "outputs": [
    {
     "data": {
      "text/plain": [
       "array([[4.10633853],\n",
       "       [2.9576447 ]])"
      ]
     },
     "execution_count": 37,
     "metadata": {},
     "output_type": "execute_result"
    }
   ],
   "source": [
    "coeffs"
   ]
  },
  {
   "cell_type": "markdown",
   "metadata": {},
   "source": [
    "3.97 is the value of intertcept and 3.03 is the coefficient of x"
   ]
  },
  {
   "cell_type": "markdown",
   "metadata": {},
   "source": [
    "### Let's predict for new instances."
   ]
  },
  {
   "cell_type": "code",
   "execution_count": 38,
   "metadata": {},
   "outputs": [],
   "source": [
    "x_new = np.array([[0],[2]])"
   ]
  },
  {
   "cell_type": "code",
   "execution_count": 39,
   "metadata": {},
   "outputs": [
    {
     "data": {
      "text/plain": [
       "array([[0],\n",
       "       [2]])"
      ]
     },
     "execution_count": 39,
     "metadata": {},
     "output_type": "execute_result"
    }
   ],
   "source": [
    "x_new"
   ]
  },
  {
   "cell_type": "code",
   "execution_count": 40,
   "metadata": {},
   "outputs": [],
   "source": [
    "x_new_ones = np.c_[np.ones((2,1)),x_new]"
   ]
  },
  {
   "cell_type": "code",
   "execution_count": 41,
   "metadata": {},
   "outputs": [
    {
     "data": {
      "text/plain": [
       "array([[1., 0.],\n",
       "       [1., 2.]])"
      ]
     },
     "execution_count": 41,
     "metadata": {},
     "output_type": "execute_result"
    }
   ],
   "source": [
    "x_new_ones"
   ]
  },
  {
   "cell_type": "code",
   "execution_count": 42,
   "metadata": {},
   "outputs": [],
   "source": [
    "y_predict = x_new_ones.dot(coeffs)"
   ]
  },
  {
   "cell_type": "code",
   "execution_count": 43,
   "metadata": {},
   "outputs": [
    {
     "data": {
      "text/plain": [
       "array([[ 4.10633853],\n",
       "       [10.02162794]])"
      ]
     },
     "execution_count": 43,
     "metadata": {},
     "output_type": "execute_result"
    }
   ],
   "source": [
    "y_predict"
   ]
  },
  {
   "cell_type": "markdown",
   "metadata": {},
   "source": [
    "### Let's plot the predictions."
   ]
  },
  {
   "cell_type": "code",
   "execution_count": 44,
   "metadata": {},
   "outputs": [
    {
     "data": {
      "image/png": "[encoded data removed]",
      "text/plain": [
       "<Figure size 432x288 with 1 Axes>"
      ]
     },
     "metadata": {
      "needs_background": "light"
     },
     "output_type": "display_data"
    }
   ],
   "source": [
    "plt.plot(x_new,y_predict,\"r-\")\n",
    "plt.plot(x,y,\"b.\")\n",
    "plt.axis([0,2,0,15])\n",
    "plt.show()"
   ]
  },
  {
   "cell_type": "markdown",
   "metadata": {},
   "source": [
    "---"
   ]
  },
  {
   "cell_type": "markdown",
   "metadata": {},
   "source": [
    "### Let's use sklearn and check the coefficients"
   ]
  },
  {
   "cell_type": "code",
   "execution_count": 45,
   "metadata": {},
   "outputs": [],
   "source": [
    "from sklearn.linear_model import LinearRegression"
   ]
  },
  {
   "cell_type": "code",
   "execution_count": 46,
   "metadata": {},
   "outputs": [],
   "source": [
    "lin_reg = LinearRegression()"
   ]
  },
  {
   "cell_type": "code",
   "execution_count": 47,
   "metadata": {},
   "outputs": [
    {
     "data": {
      "text/plain": [
       "LinearRegression(copy_X=True, fit_intercept=True, n_jobs=None,\n",
       "         normalize=False)"
      ]
     },
     "execution_count": 47,
     "metadata": {},
     "output_type": "execute_result"
    }
   ],
   "source": [
    "lin_reg.fit(x,y)"
   ]
  },
  {
   "cell_type": "code",
   "execution_count": 48,
   "metadata": {},
   "outputs": [
    {
     "data": {
      "text/plain": [
       "(array([4.10633853]), array([[2.9576447]]))"
      ]
     },
     "execution_count": 48,
     "metadata": {},
     "output_type": "execute_result"
    }
   ],
   "source": [
    "lin_reg.intercept_,lin_reg.coef_"
   ]
  },
  {
   "cell_type": "markdown",
   "metadata": {},
   "source": [
    "The coefficients are exactly same."
   ]
  },
  {
   "cell_type": "markdown",
   "metadata": {},
   "source": [
    "### Let's predict using the fitted model and compare the values with the previous predictions"
   ]
  },
  {
   "cell_type": "code",
   "execution_count": 49,
   "metadata": {},
   "outputs": [],
   "source": [
    "new_instances = np.array([[0],[2]])"
   ]
  },
  {
   "cell_type": "code",
   "execution_count": 50,
   "metadata": {},
   "outputs": [
    {
     "data": {
      "text/plain": [
       "array([[ 4.10633853],\n",
       "       [10.02162794]])"
      ]
     },
     "execution_count": 50,
     "metadata": {},
     "output_type": "execute_result"
    }
   ],
   "source": [
    "lin_reg.predict(new_instances)"
   ]
  },
  {
   "cell_type": "markdown",
   "metadata": {},
   "source": [
    "The predicted values are same as well."
   ]
  },
  {
   "cell_type": "code",
   "execution_count": null,
   "metadata": {},
   "outputs": [],
   "source": []
  }
 ],
 "metadata": {
  "kernelspec": {
   "display_name": "Python 3",
   "language": "python",
   "name": "python3"
  },
  "language_info": {
   "codemirror_mode": {
    "name": "ipython",
    "version": 3
   },
   "file_extension": ".py",
   "mimetype": "text/x-python",
   "name": "python",
   "nbconvert_exporter": "python",
   "pygments_lexer": "ipython3",
   "version": "3.7.1"
  }
 },
 "nbformat": 4,
 "nbformat_minor": 2
}
