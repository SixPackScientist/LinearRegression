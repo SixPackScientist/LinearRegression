{
 "cells": [
  {
   "cell_type": "code",
   "execution_count": 393,
   "metadata": {},
   "outputs": [
    {
     "name": "stdout",
     "output_type": "stream",
     "text": [
      "Once deleted, variables cannot be recovered. Proceed (y/[n])? y\n"
     ]
    }
   ],
   "source": [
    "%reset"
   ]
  },
  {
   "cell_type": "code",
   "execution_count": 394,
   "metadata": {},
   "outputs": [],
   "source": [
    "import numpy as np\n",
    "import matplotlib.pyplot as plt"
   ]
  },
  {
   "cell_type": "code",
   "execution_count": 395,
   "metadata": {},
   "outputs": [],
   "source": [
    "np.random.seed(42)"
   ]
  },
  {
   "cell_type": "markdown",
   "metadata": {},
   "source": [
    "### Generate input data"
   ]
  },
  {
   "cell_type": "code",
   "execution_count": 396,
   "metadata": {},
   "outputs": [],
   "source": [
    "x = 2 * np.random.randn(100,1)"
   ]
  },
  {
   "cell_type": "code",
   "execution_count": 397,
   "metadata": {},
   "outputs": [],
   "source": [
    "y = 4 + 3* x + np.random.randn(100,1)"
   ]
  },
  {
   "cell_type": "code",
   "execution_count": 398,
   "metadata": {},
   "outputs": [
    {
     "data": {
      "image/png": "[encoded data removed]",
      "text/plain": [
       "<Figure size 432x288 with 1 Axes>"
      ]
     },
     "metadata": {
      "needs_background": "light"
     },
     "output_type": "display_data"
    }
   ],
   "source": [
    "plt.plot(x,y,'o')\n",
    "plt.show()"
   ]
  },
  {
   "cell_type": "markdown",
   "metadata": {},
   "source": [
    "Let's fit one linear regression model and check the coefficients"
   ]
  },
  {
   "cell_type": "code",
   "execution_count": 399,
   "metadata": {},
   "outputs": [],
   "source": [
    "from sklearn.linear_model import LinearRegression"
   ]
  },
  {
   "cell_type": "code",
   "execution_count": 400,
   "metadata": {},
   "outputs": [],
   "source": [
    "lin_reg = LinearRegression()"
   ]
  },
  {
   "cell_type": "code",
   "execution_count": 401,
   "metadata": {},
   "outputs": [
    {
     "data": {
      "text/plain": [
       "LinearRegression(copy_X=True, fit_intercept=True, n_jobs=None,\n",
       "         normalize=False)"
      ]
     },
     "execution_count": 401,
     "metadata": {},
     "output_type": "execute_result"
    }
   ],
   "source": [
    "lin_reg.fit(x,y)"
   ]
  },
  {
   "cell_type": "code",
   "execution_count": 402,
   "metadata": {},
   "outputs": [
    {
     "data": {
      "text/plain": [
       "(array([4.00742783]), array([[2.92837142]]))"
      ]
     },
     "execution_count": 402,
     "metadata": {},
     "output_type": "execute_result"
    }
   ],
   "source": [
    "lin_reg.intercept_,lin_reg.coef_"
   ]
  },
  {
   "cell_type": "markdown",
   "metadata": {},
   "source": [
    "---"
   ]
  },
  {
   "cell_type": "markdown",
   "metadata": {},
   "source": [
    "### Let's find out the values of intercept and coefficient using Stochastic gradient descent"
   ]
  },
  {
   "cell_type": "code",
   "execution_count": 403,
   "metadata": {},
   "outputs": [],
   "source": [
    "def Stochastic_Gradient_Descent(x,y,initial_m,initial_b,learning_rate,n_poch):\n",
    "    m = initial_m\n",
    "    b = initial_b\n",
    "    n = len(x)\n",
    "\n",
    "    for epoch in range(n_poch):\n",
    "        sum_error = 0\n",
    "        for i in range(n):\n",
    "            y_hat = m * x[i] + b\n",
    "            cost = (y[i]-y_hat)**2\n",
    "            sum_error += cost\n",
    "            change_in_m = -(x[i]*(y[i]-y_hat))\n",
    "            change_in_b = -(y[i]-y_hat)\n",
    "            m = m - learning_rate * change_in_m\n",
    "            b = b - learning_rate * change_in_b\n",
    "            \n",
    "        print (\"Coeff of x is {},intercept is {}, loss is {} epoch {}\".format(m,b,sum_error, epoch))    \n",
    "        coeffs = np.array([[b],[m]])   \n",
    "    return coeffs\n"
   ]
  },
  {
   "cell_type": "code",
   "execution_count": 404,
   "metadata": {},
   "outputs": [
    {
     "name": "stdout",
     "output_type": "stream",
     "text": [
      "Coeff of x is [0.76051922],intercept is [0.33138204], loss is [3313.69603611] epoch 0\n",
      "Coeff of x is [1.3114432],intercept is [0.64423339], loss is [2241.22427098] epoch 1\n",
      "Coeff of x is [1.71174885],intercept is [0.93673324], loss is [1602.69359162] epoch 2\n",
      "Coeff of x is [2.00370058],intercept is [1.20824265], loss is [1202.28945863] epoch 3\n",
      "Coeff of x is [2.21759732],intercept is [1.45890622], loss is [936.91040111] epoch 4\n",
      "Coeff of x is [2.37517009],intercept is [1.68937295], loss is [751.43247464] epoch 5\n",
      "Coeff of x is [2.49201391],intercept is [1.90060171], loss is [615.71277554] epoch 6\n",
      "Coeff of x is [2.57932863],intercept is [2.09372679], loss is [512.74061887] epoch 7\n",
      "Coeff of x is [2.64516502],intercept is [2.26996606], loss is [432.5099636] epoch 8\n",
      "Coeff of x is [2.69531692],intercept is [2.4305592], loss is [368.83209194] epoch 9\n",
      "Coeff of x is [2.73396],intercept is [2.57672694], loss is [317.66262408] epoch 10\n",
      "Coeff of x is [2.76410916],intercept is [2.70964531], loss is [276.21117603] epoch 11\n",
      "Coeff of x is [2.78794611],intercept is [2.83042992], loss is [242.45772699] epoch 12\n",
      "Coeff of x is [2.80705404],intercept is [2.94012756], loss is [214.88215268] epoch 13\n",
      "Coeff of x is [2.82258579],intercept is [3.03971247], loss is [192.30695745] epoch 14\n",
      "Coeff of x is [2.83538432],intercept is [3.13008587], loss is [173.80130366] epoch 15\n",
      "Coeff of x is [2.84606919],intercept is [3.21207765], loss is [158.61917348] epoch 16\n",
      "Coeff of x is [2.85509856],intercept is [3.28644931], loss is [146.1572676] epoch 17\n",
      "Coeff of x is [2.86281366],intercept is [3.35389771], loss is [135.92486907] epoch 18\n",
      "Coeff of x is [2.86947083],intercept is [3.41505925], loss is [127.52136269] epoch 19\n",
      "Coeff of x is [2.87526453],intercept is [3.47051412], loss is [120.61893122] epoch 20\n",
      "Coeff of x is [2.88034386],intercept is [3.52079065], loss is [114.94893593] epoch 21\n",
      "Coeff of x is [2.88482456],intercept is [3.56636941], loss is [110.29103257] epoch 22\n",
      "Coeff of x is [2.88879765],intercept is [3.60768724], loss is [106.46438612] epoch 23\n",
      "Coeff of x is [2.89233568],intercept is [3.64514095], loss is [103.32053341] epoch 24\n",
      "Coeff of x is [2.89549731],intercept is [3.67909085], loss is [100.73756073] epoch 25\n",
      "Coeff of x is [2.89833058],intercept is [3.70986393], loss is [98.61534181] epoch 26\n",
      "Coeff of x is [2.90087542],intercept is [3.7377569], loss is [96.87163655] epoch 27\n",
      "Coeff of x is [2.9031654],intercept is [3.76303893], loss is [95.43889192] epoch 28\n",
      "Coeff of x is [2.90522909],intercept is [3.78595412], loss is [94.2616167] epoch 29\n",
      "Coeff of x is [2.90709105],intercept is [3.80672386], loss is [93.29422654] epoch 30\n",
      "Coeff of x is [2.90877256],intercept is [3.82554886], loss is [92.49927442] epoch 31\n",
      "Coeff of x is [2.91029226],intercept is [3.84261111], loss is [91.84599751] epoch 32\n",
      "Coeff of x is [2.91166652],intercept is [3.8580756], loss is [91.30912361] epoch 33\n",
      "Coeff of x is [2.91290985],intercept is [3.8720919], loss is [90.86789092] epoch 34\n",
      "Coeff of x is [2.91403515],intercept is [3.88479558], loss is [90.50524274] epoch 35\n",
      "Coeff of x is [2.91505391],intercept is [3.89630955], loss is [90.2071661] epoch 36\n",
      "Coeff of x is [2.91597645],intercept is [3.9067452], loss is [89.96214839] epoch 37\n",
      "Coeff of x is [2.916812],intercept is [3.9162035], loss is [89.76073107] epoch 38\n",
      "Coeff of x is [2.91756888],intercept is [3.92477598], loss is [89.59514306] epoch 39\n",
      "Coeff of x is [2.91825457],intercept is [3.9325456], loss is [89.45899952] epoch 40\n",
      "Coeff of x is [2.91887582],intercept is [3.93958753], loss is [89.34705448] epoch 41\n",
      "Coeff of x is [2.91943874],intercept is [3.94596994], loss is [89.25499757] epoch 42\n",
      "Coeff of x is [2.91994882],intercept is [3.95175459], loss is [89.1792871] epoch 43\n",
      "Coeff of x is [2.92041106],intercept is [3.95699745], loss is [89.11701288] epoch 44\n",
      "Coeff of x is [2.92082994],intercept is [3.96174928], loss is [89.06578353] epoch 45\n",
      "Coeff of x is [2.92120955],intercept is [3.96605605], loss is [89.02363394] epoch 46\n",
      "Coeff of x is [2.92155358],intercept is [3.96995946], loss is [88.98894922] epoch 47\n",
      "Coeff of x is [2.92186537],intercept is [3.97349728], loss is [88.96040223] epoch 48\n",
      "Coeff of x is [2.92214794],intercept is [3.97670375], loss is [88.93690226] epoch 49\n",
      "Coeff of x is [2.92240404],intercept is [3.97960991], loss is [88.91755285] epoch 50\n",
      "Coeff of x is [2.92263614],intercept is [3.98224387], loss is [88.90161718] epoch 51\n",
      "Coeff of x is [2.92284649],intercept is [3.98463115], loss is [88.88848956] epoch 52\n",
      "Coeff of x is [2.92303715],intercept is [3.98679483], loss is [88.87767213] epoch 53\n",
      "Coeff of x is [2.92320994],intercept is [3.98875586], loss is [88.86875555] epoch 54\n",
      "Coeff of x is [2.92336655],intercept is [3.99053322], loss is [88.86140329] epoch 55\n",
      "Coeff of x is [2.92350848],intercept is [3.99214412], loss is [88.85533866] epoch 56\n",
      "Coeff of x is [2.92363713],intercept is [3.99360414], loss is [88.85033409] epoch 57\n",
      "Coeff of x is [2.92375372],intercept is [3.99492742], loss is [88.84620244] epoch 58\n",
      "Coeff of x is [2.92385939],intercept is [3.99612676], loss is [88.8427898] epoch 59\n",
      "Coeff of x is [2.92395517],intercept is [3.99721377], loss is [88.83996953] epoch 60\n",
      "Coeff of x is [2.92404197],intercept is [3.99819897], loss is [88.83763746] epoch 61\n",
      "Coeff of x is [2.92412065],intercept is [3.9990919], loss is [88.83570785] epoch 62\n",
      "Coeff of x is [2.92419195],intercept is [3.9999012], loss is [88.83411016] epoch 63\n",
      "Coeff of x is [2.92425658],intercept is [4.00063469], loss is [88.8327863] epoch 64\n",
      "Coeff of x is [2.92431516],intercept is [4.00129949], loss is [88.83168844] epoch 65\n",
      "Coeff of x is [2.92436824],intercept is [4.00190203], loss is [88.83077722] epoch 66\n",
      "Coeff of x is [2.92441636],intercept is [4.00244813], loss is [88.83002018] epoch 67\n",
      "Coeff of x is [2.92445997],intercept is [4.00294308], loss is [88.82939059] epoch 68\n",
      "Coeff of x is [2.92449949],intercept is [4.00339168], loss is [88.82886642] epoch 69\n",
      "Coeff of x is [2.92453532],intercept is [4.00379826], loss is [88.82842951] epoch 70\n",
      "Coeff of x is [2.92456779],intercept is [4.00416676], loss is [88.82806486] epoch 71\n",
      "Coeff of x is [2.92459721],intercept is [4.00450075], loss is [88.82776011] epoch 72\n",
      "Coeff of x is [2.92462388],intercept is [4.00480346], loss is [88.82750505] epoch 73\n",
      "Coeff of x is [2.92464806],intercept is [4.00507781], loss is [88.82729126] epoch 74\n",
      "Coeff of x is [2.92466997],intercept is [4.00532647], loss is [88.82711177] epoch 75\n",
      "Coeff of x is [2.92468982],intercept is [4.00555184], loss is [88.82696081] epoch 76\n",
      "Coeff of x is [2.92470782],intercept is [4.00575611], loss is [88.82683362] epoch 77\n",
      "Coeff of x is [2.92472413],intercept is [4.00594124], loss is [88.82672625] epoch 78\n",
      "Coeff of x is [2.92473891],intercept is [4.00610903], loss is [88.82663544] epoch 79\n",
      "Coeff of x is [2.92475231],intercept is [4.00626111], loss is [88.82655848] epoch 80\n",
      "Coeff of x is [2.92476446],intercept is [4.00639894], loss is [88.8264931] epoch 81\n",
      "Coeff of x is [2.92477546],intercept is [4.00652386], loss is [88.82643745] epoch 82\n",
      "Coeff of x is [2.92478544],intercept is [4.00663709], loss is [88.82638998] epoch 83\n",
      "Coeff of x is [2.92479448],intercept is [4.0067397], loss is [88.82634938] epoch 84\n",
      "Coeff of x is [2.92480268],intercept is [4.00683271], loss is [88.82631458] epoch 85\n",
      "Coeff of x is [2.9248101],intercept is [4.00691701], loss is [88.82628468] epoch 86\n",
      "Coeff of x is [2.92481684],intercept is [4.00699341], loss is [88.82625892] epoch 87\n",
      "Coeff of x is [2.92482294],intercept is [4.00706266], loss is [88.82623669] epoch 88\n",
      "Coeff of x is [2.92482847],intercept is [4.00712542], loss is [88.82621745] epoch 89\n",
      "Coeff of x is [2.92483348],intercept is [4.0071823], loss is [88.82620076] epoch 90\n",
      "Coeff of x is [2.92483802],intercept is [4.00723385], loss is [88.82618624] epoch 91\n",
      "Coeff of x is [2.92484214],intercept is [4.00728058], loss is [88.82617359] epoch 92\n",
      "Coeff of x is [2.92484587],intercept is [4.00732293], loss is [88.82616253] epoch 93\n",
      "Coeff of x is [2.92484925],intercept is [4.00736131], loss is [88.82615285] epoch 94\n",
      "Coeff of x is [2.92485232],intercept is [4.0073961], loss is [88.82614436] epoch 95\n",
      "Coeff of x is [2.92485509],intercept is [4.00742763], loss is [88.82613689] epoch 96\n",
      "Coeff of x is [2.92485761],intercept is [4.00745621], loss is [88.82613032] epoch 97\n",
      "Coeff of x is [2.92485989],intercept is [4.00748211], loss is [88.82612451] epoch 98\n",
      "Coeff of x is [2.92486196],intercept is [4.00750558], loss is [88.82611937] epoch 99\n",
      "Coeff of x is [2.92486384],intercept is [4.00752686], loss is [88.82611482] epoch 100\n",
      "Coeff of x is [2.92486554],intercept is [4.00754614], loss is [88.82611078] epoch 101\n",
      "Coeff of x is [2.92486708],intercept is [4.00756362], loss is [88.82610719] epoch 102\n",
      "Coeff of x is [2.92486847],intercept is [4.00757946], loss is [88.82610399] epoch 103\n",
      "Coeff of x is [2.92486974],intercept is [4.00759382], loss is [88.82610114] epoch 104\n",
      "Coeff of x is [2.92487088],intercept is [4.00760683], loss is [88.8260986] epoch 105\n",
      "Coeff of x is [2.92487192],intercept is [4.00761862], loss is [88.82609632] epoch 106\n",
      "Coeff of x is [2.92487286],intercept is [4.00762931], loss is [88.82609429] epoch 107\n",
      "Coeff of x is [2.92487372],intercept is [4.007639], loss is [88.82609247] epoch 108\n",
      "Coeff of x is [2.92487449],intercept is [4.00764778], loss is [88.82609084] epoch 109\n",
      "Coeff of x is [2.92487519],intercept is [4.00765574], loss is [88.82608937] epoch 110\n",
      "Coeff of x is [2.92487583],intercept is [4.00766295], loss is [88.82608805] epoch 111\n",
      "Coeff of x is [2.9248764],intercept is [4.00766949], loss is [88.82608687] epoch 112\n",
      "Coeff of x is [2.92487693],intercept is [4.00767541], loss is [88.82608581] epoch 113\n",
      "Coeff of x is [2.9248774],intercept is [4.00768078], loss is [88.82608485] epoch 114\n",
      "Coeff of x is [2.92487783],intercept is [4.00768565], loss is [88.82608399] epoch 115\n",
      "Coeff of x is [2.92487822],intercept is [4.00769006], loss is [88.82608321] epoch 116\n",
      "Coeff of x is [2.92487857],intercept is [4.00769406], loss is [88.82608251] epoch 117\n",
      "Coeff of x is [2.92487889],intercept is [4.00769768], loss is [88.82608187] epoch 118\n",
      "Coeff of x is [2.92487918],intercept is [4.00770097], loss is [88.8260813] epoch 119\n",
      "Coeff of x is [2.92487944],intercept is [4.00770394], loss is [88.82608079] epoch 120\n",
      "Coeff of x is [2.92487968],intercept is [4.00770664], loss is [88.82608032] epoch 121\n",
      "Coeff of x is [2.92487989],intercept is [4.00770909], loss is [88.8260799] epoch 122\n",
      "Coeff of x is [2.92488009],intercept is [4.0077113], loss is [88.82607952] epoch 123\n",
      "Coeff of x is [2.92488026],intercept is [4.00771331], loss is [88.82607918] epoch 124\n",
      "Coeff of x is [2.92488042],intercept is [4.00771513], loss is [88.82607887] epoch 125\n",
      "Coeff of x is [2.92488057],intercept is [4.00771678], loss is [88.82607859] epoch 126\n",
      "Coeff of x is [2.9248807],intercept is [4.00771828], loss is [88.82607834] epoch 127\n",
      "Coeff of x is [2.92488082],intercept is [4.00771963], loss is [88.82607811] epoch 128\n",
      "Coeff of x is [2.92488093],intercept is [4.00772086], loss is [88.8260779] epoch 129\n",
      "Coeff of x is [2.92488103],intercept is [4.00772197], loss is [88.82607771] epoch 130\n",
      "Coeff of x is [2.92488112],intercept is [4.00772298], loss is [88.82607754] epoch 131\n",
      "Coeff of x is [2.9248812],intercept is [4.0077239], loss is [88.82607739] epoch 132\n",
      "Coeff of x is [2.92488127],intercept is [4.00772473], loss is [88.82607725] epoch 133\n",
      "Coeff of x is [2.92488134],intercept is [4.00772548], loss is [88.82607712] epoch 134\n",
      "Coeff of x is [2.9248814],intercept is [4.00772616], loss is [88.82607701] epoch 135\n",
      "Coeff of x is [2.92488145],intercept is [4.00772678], loss is [88.8260769] epoch 136\n",
      "Coeff of x is [2.9248815],intercept is [4.00772733], loss is [88.82607681] epoch 137\n",
      "Coeff of x is [2.92488154],intercept is [4.00772784], loss is [88.82607672] epoch 138\n",
      "Coeff of x is [2.92488159],intercept is [4.0077283], loss is [88.82607665] epoch 139\n",
      "Coeff of x is [2.92488162],intercept is [4.00772872], loss is [88.82607658] epoch 140\n",
      "Coeff of x is [2.92488166],intercept is [4.00772909], loss is [88.82607651] epoch 141\n",
      "Coeff of x is [2.92488169],intercept is [4.00772944], loss is [88.82607646] epoch 142\n",
      "Coeff of x is [2.92488171],intercept is [4.00772975], loss is [88.8260764] epoch 143\n",
      "Coeff of x is [2.92488174],intercept is [4.00773003], loss is [88.82607636] epoch 144\n",
      "Coeff of x is [2.92488176],intercept is [4.00773028], loss is [88.82607632] epoch 145\n",
      "Coeff of x is [2.92488178],intercept is [4.00773051], loss is [88.82607628] epoch 146\n",
      "Coeff of x is [2.9248818],intercept is [4.00773072], loss is [88.82607624] epoch 147\n",
      "Coeff of x is [2.92488182],intercept is [4.00773091], loss is [88.82607621] epoch 148\n",
      "Coeff of x is [2.92488183],intercept is [4.00773108], loss is [88.82607618] epoch 149\n",
      "Coeff of x is [2.92488184],intercept is [4.00773124], loss is [88.82607616] epoch 150\n",
      "Coeff of x is [2.92488186],intercept is [4.00773138], loss is [88.82607613] epoch 151\n",
      "Coeff of x is [2.92488187],intercept is [4.00773151], loss is [88.82607611] epoch 152\n",
      "Coeff of x is [2.92488188],intercept is [4.00773163], loss is [88.82607609] epoch 153\n",
      "Coeff of x is [2.92488189],intercept is [4.00773173], loss is [88.82607607] epoch 154\n",
      "Coeff of x is [2.9248819],intercept is [4.00773183], loss is [88.82607606] epoch 155\n",
      "Coeff of x is [2.9248819],intercept is [4.00773191], loss is [88.82607604] epoch 156\n",
      "Coeff of x is [2.92488191],intercept is [4.00773199], loss is [88.82607603] epoch 157\n",
      "Coeff of x is [2.92488192],intercept is [4.00773206], loss is [88.82607602] epoch 158\n",
      "Coeff of x is [2.92488192],intercept is [4.00773213], loss is [88.82607601] epoch 159\n",
      "Coeff of x is [2.92488193],intercept is [4.00773218], loss is [88.826076] epoch 160\n",
      "Coeff of x is [2.92488193],intercept is [4.00773224], loss is [88.82607599] epoch 161\n",
      "Coeff of x is [2.92488194],intercept is [4.00773228], loss is [88.82607598] epoch 162\n",
      "Coeff of x is [2.92488194],intercept is [4.00773233], loss is [88.82607597] epoch 163\n",
      "Coeff of x is [2.92488194],intercept is [4.00773237], loss is [88.82607597] epoch 164\n",
      "Coeff of x is [2.92488195],intercept is [4.0077324], loss is [88.82607596] epoch 165\n",
      "Coeff of x is [2.92488195],intercept is [4.00773243], loss is [88.82607596] epoch 166\n",
      "Coeff of x is [2.92488195],intercept is [4.00773246], loss is [88.82607595] epoch 167\n",
      "Coeff of x is [2.92488195],intercept is [4.00773249], loss is [88.82607595] epoch 168\n",
      "Coeff of x is [2.92488196],intercept is [4.00773251], loss is [88.82607594] epoch 169\n",
      "Coeff of x is [2.92488196],intercept is [4.00773254], loss is [88.82607594] epoch 170\n",
      "Coeff of x is [2.92488196],intercept is [4.00773256], loss is [88.82607594] epoch 171\n",
      "Coeff of x is [2.92488196],intercept is [4.00773257], loss is [88.82607593] epoch 172\n",
      "Coeff of x is [2.92488196],intercept is [4.00773259], loss is [88.82607593] epoch 173\n",
      "Coeff of x is [2.92488196],intercept is [4.0077326], loss is [88.82607593] epoch 174\n",
      "Coeff of x is [2.92488197],intercept is [4.00773262], loss is [88.82607593] epoch 175\n",
      "Coeff of x is [2.92488197],intercept is [4.00773263], loss is [88.82607592] epoch 176\n",
      "Coeff of x is [2.92488197],intercept is [4.00773264], loss is [88.82607592] epoch 177\n",
      "Coeff of x is [2.92488197],intercept is [4.00773265], loss is [88.82607592] epoch 178\n",
      "Coeff of x is [2.92488197],intercept is [4.00773266], loss is [88.82607592] epoch 179\n",
      "Coeff of x is [2.92488197],intercept is [4.00773267], loss is [88.82607592] epoch 180\n",
      "Coeff of x is [2.92488197],intercept is [4.00773268], loss is [88.82607592] epoch 181\n",
      "Coeff of x is [2.92488197],intercept is [4.00773268], loss is [88.82607592] epoch 182\n"
     ]
    },
    {
     "name": "stdout",
     "output_type": "stream",
     "text": [
      "Coeff of x is [2.92488197],intercept is [4.00773269], loss is [88.82607591] epoch 183\n",
      "Coeff of x is [2.92488197],intercept is [4.00773269], loss is [88.82607591] epoch 184\n",
      "Coeff of x is [2.92488197],intercept is [4.0077327], loss is [88.82607591] epoch 185\n",
      "Coeff of x is [2.92488197],intercept is [4.0077327], loss is [88.82607591] epoch 186\n",
      "Coeff of x is [2.92488197],intercept is [4.00773271], loss is [88.82607591] epoch 187\n",
      "Coeff of x is [2.92488197],intercept is [4.00773271], loss is [88.82607591] epoch 188\n",
      "Coeff of x is [2.92488197],intercept is [4.00773271], loss is [88.82607591] epoch 189\n",
      "Coeff of x is [2.92488197],intercept is [4.00773272], loss is [88.82607591] epoch 190\n",
      "Coeff of x is [2.92488197],intercept is [4.00773272], loss is [88.82607591] epoch 191\n",
      "Coeff of x is [2.92488197],intercept is [4.00773272], loss is [88.82607591] epoch 192\n",
      "Coeff of x is [2.92488197],intercept is [4.00773273], loss is [88.82607591] epoch 193\n",
      "Coeff of x is [2.92488198],intercept is [4.00773273], loss is [88.82607591] epoch 194\n",
      "Coeff of x is [2.92488198],intercept is [4.00773273], loss is [88.82607591] epoch 195\n",
      "Coeff of x is [2.92488198],intercept is [4.00773273], loss is [88.82607591] epoch 196\n",
      "Coeff of x is [2.92488198],intercept is [4.00773273], loss is [88.82607591] epoch 197\n",
      "Coeff of x is [2.92488198],intercept is [4.00773273], loss is [88.82607591] epoch 198\n",
      "Coeff of x is [2.92488198],intercept is [4.00773274], loss is [88.82607591] epoch 199\n"
     ]
    }
   ],
   "source": [
    "coeffs = Stochastic_Gradient_Descent(x,y,initial_m=0,initial_b=0,learning_rate=0.001,n_poch=200)"
   ]
  },
  {
   "cell_type": "code",
   "execution_count": 405,
   "metadata": {},
   "outputs": [],
   "source": [
    "coeffs = coeffs.reshape(-1,1)"
   ]
  },
  {
   "cell_type": "markdown",
   "metadata": {},
   "source": [
    "### Let's predict for new instances"
   ]
  },
  {
   "cell_type": "code",
   "execution_count": 406,
   "metadata": {},
   "outputs": [],
   "source": [
    "x_new = np.array([[0],[2]])"
   ]
  },
  {
   "cell_type": "code",
   "execution_count": 407,
   "metadata": {},
   "outputs": [
    {
     "data": {
      "text/plain": [
       "array([[0],\n",
       "       [2]])"
      ]
     },
     "execution_count": 407,
     "metadata": {},
     "output_type": "execute_result"
    }
   ],
   "source": [
    "x_new"
   ]
  },
  {
   "cell_type": "code",
   "execution_count": 408,
   "metadata": {},
   "outputs": [],
   "source": [
    "x_new_ones = np.c_[np.ones((2,1)),x_new]"
   ]
  },
  {
   "cell_type": "code",
   "execution_count": 409,
   "metadata": {},
   "outputs": [
    {
     "data": {
      "text/plain": [
       "array([[1., 0.],\n",
       "       [1., 2.]])"
      ]
     },
     "execution_count": 409,
     "metadata": {},
     "output_type": "execute_result"
    }
   ],
   "source": [
    "x_new_ones"
   ]
  },
  {
   "cell_type": "code",
   "execution_count": 410,
   "metadata": {},
   "outputs": [],
   "source": [
    "y_predict = x_new_ones.dot(coeffs)"
   ]
  },
  {
   "cell_type": "code",
   "execution_count": 411,
   "metadata": {},
   "outputs": [
    {
     "data": {
      "text/plain": [
       "array([[4.00773274],\n",
       "       [9.85749669]])"
      ]
     },
     "execution_count": 411,
     "metadata": {},
     "output_type": "execute_result"
    }
   ],
   "source": [
    "y_predict"
   ]
  },
  {
   "cell_type": "code",
   "execution_count": null,
   "metadata": {},
   "outputs": [],
   "source": []
  }
 ],
 "metadata": {
  "kernelspec": {
   "display_name": "Python 3",
   "language": "python",
   "name": "python3"
  },
  "language_info": {
   "codemirror_mode": {
    "name": "ipython",
    "version": 3
   },
   "file_extension": ".py",
   "mimetype": "text/x-python",
   "name": "python",
   "nbconvert_exporter": "python",
   "pygments_lexer": "ipython3",
   "version": "3.7.1"
  }
 },
 "nbformat": 4,
 "nbformat_minor": 2
}
