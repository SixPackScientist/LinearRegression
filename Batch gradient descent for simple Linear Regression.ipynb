{
 "cells": [
  {
   "cell_type": "code",
   "execution_count": 101,
   "metadata": {},
   "outputs": [
    {
     "name": "stdout",
     "output_type": "stream",
     "text": [
      "Once deleted, variables cannot be recovered. Proceed (y/[n])? y\n"
     ]
    }
   ],
   "source": [
    "%reset"
   ]
  },
  {
   "cell_type": "code",
   "execution_count": 102,
   "metadata": {},
   "outputs": [],
   "source": [
    "import numpy as np\n",
    "import matplotlib.pyplot as plt"
   ]
  },
  {
   "cell_type": "code",
   "execution_count": 103,
   "metadata": {},
   "outputs": [],
   "source": [
    "np.random.seed(42)"
   ]
  },
  {
   "cell_type": "markdown",
   "metadata": {},
   "source": [
    "### Generate input data"
   ]
  },
  {
   "cell_type": "code",
   "execution_count": 104,
   "metadata": {},
   "outputs": [],
   "source": [
    "x = 2 * np.random.randn(100,1)"
   ]
  },
  {
   "cell_type": "code",
   "execution_count": 105,
   "metadata": {},
   "outputs": [],
   "source": [
    "y = 4 + 3* x + np.random.randn(100,1)"
   ]
  },
  {
   "cell_type": "code",
   "execution_count": 106,
   "metadata": {},
   "outputs": [
    {
     "data": {
      "image/png": "[encoded data removed]",
      "text/plain": [
       "<Figure size 432x288 with 1 Axes>"
      ]
     },
     "metadata": {
      "needs_background": "light"
     },
     "output_type": "display_data"
    }
   ],
   "source": [
    "plt.plot(x,y,'o')\n",
    "plt.show()"
   ]
  },
  {
   "cell_type": "markdown",
   "metadata": {},
   "source": [
    "Let's fit one linear regression model and check the coefficients"
   ]
  },
  {
   "cell_type": "code",
   "execution_count": 107,
   "metadata": {},
   "outputs": [],
   "source": [
    "from sklearn.linear_model import LinearRegression"
   ]
  },
  {
   "cell_type": "code",
   "execution_count": 108,
   "metadata": {},
   "outputs": [],
   "source": [
    "lin_reg = LinearRegression()"
   ]
  },
  {
   "cell_type": "code",
   "execution_count": 109,
   "metadata": {},
   "outputs": [
    {
     "data": {
      "text/plain": [
       "LinearRegression(copy_X=True, fit_intercept=True, n_jobs=None,\n",
       "         normalize=False)"
      ]
     },
     "execution_count": 109,
     "metadata": {},
     "output_type": "execute_result"
    }
   ],
   "source": [
    "lin_reg.fit(x,y)"
   ]
  },
  {
   "cell_type": "code",
   "execution_count": 110,
   "metadata": {},
   "outputs": [
    {
     "data": {
      "text/plain": [
       "(array([4.00742783]), array([[2.92837142]]))"
      ]
     },
     "execution_count": 110,
     "metadata": {},
     "output_type": "execute_result"
    }
   ],
   "source": [
    "lin_reg.intercept_,lin_reg.coef_"
   ]
  },
  {
   "cell_type": "markdown",
   "metadata": {},
   "source": [
    "---"
   ]
  },
  {
   "cell_type": "markdown",
   "metadata": {},
   "source": [
    "### Let's find out the values of intercept and coefficient using batch gradient descent"
   ]
  },
  {
   "cell_type": "code",
   "execution_count": 111,
   "metadata": {},
   "outputs": [],
   "source": [
    "def Batch_Gradient_Descent(x,y,initial_m,initial_b,learning_rate,n_iter):\n",
    "    m = initial_m\n",
    "    b = initial_b\n",
    "    n = len(x)\n",
    "\n",
    "    for i in range(n_iter):\n",
    "        y_hat = m * x + b\n",
    "        cost = (1/n) * sum([val**2 for val in (y-y_hat)])\n",
    "        change_in_m = -(2/n)*sum(x*(y-y_hat))\n",
    "        change_in_b = -(2/n)*sum(y-y_hat)\n",
    "        m = m - learning_rate * change_in_m\n",
    "        b = b - learning_rate * change_in_b\n",
    "        print (\"Coeff of x is {},intercept is {}, loss is {} iteration {}\".format(m,b,cost, i))\n",
    "    coeffs = np.array([[b],[m]])    \n",
    "    return coeffs\n"
   ]
  },
  {
   "cell_type": "code",
   "execution_count": 112,
   "metadata": {},
   "outputs": [
    {
     "name": "stdout",
     "output_type": "stream",
     "text": [
      "Coeff of x is [1.5944986],intercept is [0.61186059], loss is [40.44625073] iteration 0\n",
      "Coeff of x is [2.26209157],intercept is [1.17319619], loss is [16.41994868] iteration 1\n",
      "Coeff of x is [2.55301115],intercept is [1.65844919], loss is [9.60115043] iteration 2\n",
      "Coeff of x is [2.68878248],intercept is [2.06723259], loss is [6.50133613] iteration 3\n",
      "Coeff of x is [2.75896245],intercept is [2.40751076], loss is [4.6448571] iteration 4\n",
      "Coeff of x is [2.80006019],intercept is [2.68916252], loss is [3.42575351] iteration 5\n",
      "Coeff of x is [2.82720711],intercept is [2.9216534], loss is [2.6056764] iteration 6\n",
      "Coeff of x is [2.8468753],intercept is [3.11331079], loss is [2.05077925] iteration 7\n",
      "Coeff of x is [2.86199298],intercept is [3.27120515], loss is [1.6747884] iteration 8\n",
      "Coeff of x is [2.8740085],intercept is [3.40124369], loss is [1.41993746] iteration 9\n",
      "Coeff of x is [2.88372831],intercept is [3.50832449], loss is [1.24718293] iteration 10\n",
      "Coeff of x is [2.89166159],intercept is [3.59649412], loss is [1.1300765] iteration 11\n",
      "Coeff of x is [2.89816554],intercept is [3.6690898], loss is [1.05069232] iteration 12\n",
      "Coeff of x is [2.90350931],intercept is [3.72886141], loss is [0.99687926] iteration 13\n",
      "Coeff of x is [2.90790455],intercept is [3.7780739], loss is [0.96040039] iteration 14\n",
      "Coeff of x is [2.91152152],intercept is [3.81859246], loss is [0.93567203] iteration 15\n",
      "Coeff of x is [2.91449878],intercept is [3.8519529], loss is [0.91890913] iteration 16\n",
      "Coeff of x is [2.91694977],intercept is [3.87941976], loss is [0.90754587] iteration 17\n",
      "Coeff of x is [2.91896765],intercept is [3.90203422], loss is [0.89984293] iteration 18\n",
      "Coeff of x is [2.92062899],intercept is [3.92065351], loss is [0.89462125] iteration 19\n",
      "Coeff of x is [2.92199681],intercept is [3.93598344], loss is [0.89108156] iteration 20\n",
      "Coeff of x is [2.92312298],intercept is [3.94860512], loss is [0.88868208] iteration 21\n",
      "Coeff of x is [2.9240502],intercept is [3.95899699], loss is [0.88705551] iteration 22\n",
      "Coeff of x is [2.9248136],intercept is [3.967553], loss is [0.88595289] iteration 23\n",
      "Coeff of x is [2.92544214],intercept is [3.97459746], loss is [0.88520544] iteration 24\n",
      "Coeff of x is [2.92595964],intercept is [3.98039741], loss is [0.88469876] iteration 25\n",
      "Coeff of x is [2.92638572],intercept is [3.98517273], loss is [0.88435529] iteration 26\n",
      "Coeff of x is [2.92673652],intercept is [3.98910441], loss is [0.88412246] iteration 27\n",
      "Coeff of x is [2.92702535],intercept is [3.9923415], loss is [0.88396463] iteration 28\n",
      "Coeff of x is [2.92726315],intercept is [3.99500672], loss is [0.88385764] iteration 29\n",
      "Coeff of x is [2.92745894],intercept is [3.99720109], loss is [0.88378511] iteration 30\n",
      "Coeff of x is [2.92762015],intercept is [3.99900779], loss is [0.88373595] iteration 31\n",
      "Coeff of x is [2.92775287],intercept is [4.00049531], loss is [0.88370262] iteration 32\n",
      "Coeff of x is [2.92786214],intercept is [4.00172004], loss is [0.88368003] iteration 33\n",
      "Coeff of x is [2.92795212],intercept is [4.0027284], loss is [0.88366471] iteration 34\n",
      "Coeff of x is [2.92802619],intercept is [4.00355862], loss is [0.88365433] iteration 35\n",
      "Coeff of x is [2.92808718],intercept is [4.00424217], loss is [0.88364729] iteration 36\n",
      "Coeff of x is [2.9281374],intercept is [4.00480497], loss is [0.88364252] iteration 37\n",
      "Coeff of x is [2.92817874],intercept is [4.00526833], loss is [0.88363929] iteration 38\n",
      "Coeff of x is [2.92821278],intercept is [4.00564984], loss is [0.8836371] iteration 39\n",
      "Coeff of x is [2.92824081],intercept is [4.00596395], loss is [0.88363561] iteration 40\n",
      "Coeff of x is [2.92826388],intercept is [4.00622256], loss is [0.8836346] iteration 41\n",
      "Coeff of x is [2.92828288],intercept is [4.00643549], loss is [0.88363392] iteration 42\n",
      "Coeff of x is [2.92829852],intercept is [4.0066108], loss is [0.88363346] iteration 43\n",
      "Coeff of x is [2.9283114],intercept is [4.00675514], loss is [0.88363314] iteration 44\n",
      "Coeff of x is [2.928322],intercept is [4.00687398], loss is [0.88363293] iteration 45\n",
      "Coeff of x is [2.92833073],intercept is [4.00697183], loss is [0.88363279] iteration 46\n",
      "Coeff of x is [2.92833792],intercept is [4.00705239], loss is [0.88363269] iteration 47\n",
      "Coeff of x is [2.92834384],intercept is [4.00711871], loss is [0.88363262] iteration 48\n",
      "Coeff of x is [2.92834871],intercept is [4.00717332], loss is [0.88363258] iteration 49\n",
      "Coeff of x is [2.92835272],intercept is [4.00721829], loss is [0.88363255] iteration 50\n",
      "Coeff of x is [2.92835603],intercept is [4.0072553], loss is [0.88363253] iteration 51\n",
      "Coeff of x is [2.92835875],intercept is [4.00728578], loss is [0.88363251] iteration 52\n",
      "Coeff of x is [2.92836098],intercept is [4.00731088], loss is [0.8836325] iteration 53\n",
      "Coeff of x is [2.92836283],intercept is [4.00733154], loss is [0.8836325] iteration 54\n",
      "Coeff of x is [2.92836435],intercept is [4.00734855], loss is [0.88363249] iteration 55\n",
      "Coeff of x is [2.9283656],intercept is [4.00736256], loss is [0.88363249] iteration 56\n",
      "Coeff of x is [2.92836662],intercept is [4.00737409], loss is [0.88363249] iteration 57\n",
      "Coeff of x is [2.92836747],intercept is [4.00738358], loss is [0.88363249] iteration 58\n",
      "Coeff of x is [2.92836817],intercept is [4.0073914], loss is [0.88363248] iteration 59\n",
      "Coeff of x is [2.92836874],intercept is [4.00739784], loss is [0.88363248] iteration 60\n",
      "Coeff of x is [2.92836922],intercept is [4.00740313], loss is [0.88363248] iteration 61\n",
      "Coeff of x is [2.92836961],intercept is [4.0074075], loss is [0.88363248] iteration 62\n",
      "Coeff of x is [2.92836993],intercept is [4.00741109], loss is [0.88363248] iteration 63\n",
      "Coeff of x is [2.92837019],intercept is [4.00741405], loss is [0.88363248] iteration 64\n",
      "Coeff of x is [2.92837041],intercept is [4.00741648], loss is [0.88363248] iteration 65\n",
      "Coeff of x is [2.92837059],intercept is [4.00741849], loss is [0.88363248] iteration 66\n",
      "Coeff of x is [2.92837073],intercept is [4.00742014], loss is [0.88363248] iteration 67\n",
      "Coeff of x is [2.92837085],intercept is [4.0074215], loss is [0.88363248] iteration 68\n",
      "Coeff of x is [2.92837095],intercept is [4.00742262], loss is [0.88363248] iteration 69\n",
      "Coeff of x is [2.92837104],intercept is [4.00742354], loss is [0.88363248] iteration 70\n",
      "Coeff of x is [2.9283711],intercept is [4.00742429], loss is [0.88363248] iteration 71\n",
      "Coeff of x is [2.92837116],intercept is [4.00742492], loss is [0.88363248] iteration 72\n",
      "Coeff of x is [2.92837121],intercept is [4.00742543], loss is [0.88363248] iteration 73\n",
      "Coeff of x is [2.92837124],intercept is [4.00742586], loss is [0.88363248] iteration 74\n",
      "Coeff of x is [2.92837127],intercept is [4.00742621], loss is [0.88363248] iteration 75\n",
      "Coeff of x is [2.9283713],intercept is [4.00742649], loss is [0.88363248] iteration 76\n",
      "Coeff of x is [2.92837132],intercept is [4.00742673], loss is [0.88363248] iteration 77\n",
      "Coeff of x is [2.92837134],intercept is [4.00742692], loss is [0.88363248] iteration 78\n",
      "Coeff of x is [2.92837135],intercept is [4.00742708], loss is [0.88363248] iteration 79\n",
      "Coeff of x is [2.92837137],intercept is [4.00742722], loss is [0.88363248] iteration 80\n",
      "Coeff of x is [2.92837137],intercept is [4.00742732], loss is [0.88363248] iteration 81\n",
      "Coeff of x is [2.92837138],intercept is [4.00742741], loss is [0.88363248] iteration 82\n",
      "Coeff of x is [2.92837139],intercept is [4.00742749], loss is [0.88363248] iteration 83\n",
      "Coeff of x is [2.92837139],intercept is [4.00742755], loss is [0.88363248] iteration 84\n",
      "Coeff of x is [2.9283714],intercept is [4.0074276], loss is [0.88363248] iteration 85\n",
      "Coeff of x is [2.9283714],intercept is [4.00742764], loss is [0.88363248] iteration 86\n",
      "Coeff of x is [2.92837141],intercept is [4.00742767], loss is [0.88363248] iteration 87\n",
      "Coeff of x is [2.92837141],intercept is [4.0074277], loss is [0.88363248] iteration 88\n",
      "Coeff of x is [2.92837141],intercept is [4.00742772], loss is [0.88363248] iteration 89\n",
      "Coeff of x is [2.92837141],intercept is [4.00742774], loss is [0.88363248] iteration 90\n",
      "Coeff of x is [2.92837141],intercept is [4.00742776], loss is [0.88363248] iteration 91\n",
      "Coeff of x is [2.92837141],intercept is [4.00742777], loss is [0.88363248] iteration 92\n",
      "Coeff of x is [2.92837142],intercept is [4.00742778], loss is [0.88363248] iteration 93\n",
      "Coeff of x is [2.92837142],intercept is [4.00742779], loss is [0.88363248] iteration 94\n",
      "Coeff of x is [2.92837142],intercept is [4.0074278], loss is [0.88363248] iteration 95\n",
      "Coeff of x is [2.92837142],intercept is [4.0074278], loss is [0.88363248] iteration 96\n",
      "Coeff of x is [2.92837142],intercept is [4.00742781], loss is [0.88363248] iteration 97\n",
      "Coeff of x is [2.92837142],intercept is [4.00742781], loss is [0.88363248] iteration 98\n",
      "Coeff of x is [2.92837142],intercept is [4.00742781], loss is [0.88363248] iteration 99\n"
     ]
    }
   ],
   "source": [
    "coeffs = Batch_Gradient_Descent(x,y,initial_m=0,initial_b=0,learning_rate=0.09,n_iter=100)"
   ]
  },
  {
   "cell_type": "code",
   "execution_count": 113,
   "metadata": {},
   "outputs": [
    {
     "data": {
      "text/plain": [
       "(2, 1, 1)"
      ]
     },
     "execution_count": 113,
     "metadata": {},
     "output_type": "execute_result"
    }
   ],
   "source": [
    "coeffs.shape"
   ]
  },
  {
   "cell_type": "code",
   "execution_count": 114,
   "metadata": {},
   "outputs": [],
   "source": [
    "coeffs = coeffs.reshape(-1,1)"
   ]
  },
  {
   "cell_type": "markdown",
   "metadata": {},
   "source": [
    "### Let's predict for new instances"
   ]
  },
  {
   "cell_type": "code",
   "execution_count": 115,
   "metadata": {},
   "outputs": [],
   "source": [
    "x_new = np.array([[0],[2]])"
   ]
  },
  {
   "cell_type": "code",
   "execution_count": 116,
   "metadata": {},
   "outputs": [
    {
     "data": {
      "text/plain": [
       "array([[0],\n",
       "       [2]])"
      ]
     },
     "execution_count": 116,
     "metadata": {},
     "output_type": "execute_result"
    }
   ],
   "source": [
    "x_new"
   ]
  },
  {
   "cell_type": "code",
   "execution_count": 117,
   "metadata": {},
   "outputs": [],
   "source": [
    "x_new_ones = np.c_[np.ones((2,1)),x_new]"
   ]
  },
  {
   "cell_type": "code",
   "execution_count": 118,
   "metadata": {},
   "outputs": [
    {
     "data": {
      "text/plain": [
       "array([[1., 0.],\n",
       "       [1., 2.]])"
      ]
     },
     "execution_count": 118,
     "metadata": {},
     "output_type": "execute_result"
    }
   ],
   "source": [
    "x_new_ones"
   ]
  },
  {
   "cell_type": "code",
   "execution_count": 119,
   "metadata": {},
   "outputs": [],
   "source": [
    "y_predict = x_new_ones.dot(coeffs)"
   ]
  },
  {
   "cell_type": "code",
   "execution_count": 120,
   "metadata": {},
   "outputs": [
    {
     "data": {
      "text/plain": [
       "array([[4.00742781],\n",
       "       [9.86417065]])"
      ]
     },
     "execution_count": 120,
     "metadata": {},
     "output_type": "execute_result"
    }
   ],
   "source": [
    "y_predict"
   ]
  },
  {
   "cell_type": "code",
   "execution_count": null,
   "metadata": {},
   "outputs": [],
   "source": []
  }
 ],
 "metadata": {
  "kernelspec": {
   "display_name": "Python 3",
   "language": "python",
   "name": "python3"
  },
  "language_info": {
   "codemirror_mode": {
    "name": "ipython",
    "version": 3
   },
   "file_extension": ".py",
   "mimetype": "text/x-python",
   "name": "python",
   "nbconvert_exporter": "python",
   "pygments_lexer": "ipython3",
   "version": "3.7.1"
  }
 },
 "nbformat": 4,
 "nbformat_minor": 2
}
